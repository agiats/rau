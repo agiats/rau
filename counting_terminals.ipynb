{
 "cells": [
  {
   "cell_type": "code",
   "execution_count": 1,
   "metadata": {},
   "outputs": [],
   "source": [
    "from pathlib import Path"
   ]
  },
  {
   "cell_type": "code",
   "execution_count": 3,
   "metadata": {},
   "outputs": [
    {
     "name": "stdout",
     "output_type": "stream",
     "text": [
      "ROOT: 0\n"
     ]
    }
   ],
   "source": [
    "def count_terminals_per_nonterminal(parse_str):\n",
    "    # 結果を格納する辞書\n",
    "    counts = {}\n",
    "\n",
    "    def process_node(node_str):\n",
    "        # カッコの中身を取り出す\n",
    "        content = node_str.strip('()').strip()\n",
    "        parts = content.split(None, 1)\n",
    "\n",
    "        if not parts:\n",
    "            return 0\n",
    "\n",
    "        nonterminal = parts[0]\n",
    "\n",
    "        # 末端記号(terminal)の場合\n",
    "        if not parts[1].startswith('('):\n",
    "            counts[nonterminal] = counts.get(nonterminal, 0) + 1\n",
    "            return 1\n",
    "\n",
    "        # 非終端記号(nonterminal)の場合\n",
    "        rest = parts[1]\n",
    "        terminal_count = 0\n",
    "\n",
    "        # 子ノードを処理\n",
    "        stack = []\n",
    "        current = ''\n",
    "        for char in rest:\n",
    "            if char == '(':\n",
    "                stack.append(char)\n",
    "            elif char == ')':\n",
    "                stack.pop()\n",
    "            current += char\n",
    "\n",
    "            if not stack and current.strip():\n",
    "                terminal_count += process_node(current)\n",
    "                current = ''\n",
    "\n",
    "        counts[nonterminal] = counts.get(nonterminal, 0) + terminal_count\n",
    "        return terminal_count\n",
    "\n",
    "    # 入力文字列の各導出木を処理\n",
    "    for tree in parse_str.strip().split('\\n'):\n",
    "        if tree:\n",
    "            process_node(tree)\n",
    "\n",
    "    return counts\n",
    "\n",
    "# 使用例\n",
    "parse_trees = \"\"\"( ROOT ( 1S ( NP_Subj_P ( 5NP_P ( Adj gaunch ) ( Noun_P strogessors ) ) ( Subj sub ) ) ( VP_P ( VP_Comp_P ( 2VP_Comp_Pres_P ( 3S_Comp ( 1S ( NP_Subj_S ( NP_S ( Noun_S flingerician ) ) ( Subj sub ) ) ...\"\"\"\n",
    "\n",
    "result = count_terminals_per_nonterminal(parse_trees)\n",
    "\n",
    "# 結果を表示\n",
    "for nonterminal, count in sorted(result.items()):\n",
    "    print(f\"{nonterminal}: {count}\")"
   ]
  }
 ],
 "metadata": {
  "kernelspec": {
   "display_name": "Python 3",
   "language": "python",
   "name": "python3"
  },
  "language_info": {
   "codemirror_mode": {
    "name": "ipython",
    "version": 3
   },
   "file_extension": ".py",
   "mimetype": "text/x-python",
   "name": "python",
   "nbconvert_exporter": "python",
   "pygments_lexer": "ipython3",
   "version": "3.10.6"
  }
 },
 "nbformat": 4,
 "nbformat_minor": 2
}
