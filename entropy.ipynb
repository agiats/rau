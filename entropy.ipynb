{
 "cells": [
  {
   "cell_type": "code",
   "execution_count": 18,
   "metadata": {},
   "outputs": [],
   "source": [
    "import pandas as pd\n",
    "from pathlib import Path\n",
    "import json"
   ]
  },
  {
   "cell_type": "code",
   "execution_count": 37,
   "metadata": {},
   "outputs": [],
   "source": [
    "results_dir = Path(\"results\").resolve()\n",
    "exp_name = \"10M_samples\"\n",
    "grammar_names = [\n",
    "    \"PCFG\",\n",
    "    \"PCFGDeterministicShuffle\",\n",
    "    \"PCFGNonDeterministicShuffle\",\n",
    "    \"PCFGLocalShuffle\",\n",
    "    \"PCFGEvenOddShuffle\",\n",
    "    \"PCFGNoReverse\",\n",
    "    \"PCFGPartialReverse\",\n",
    "    \"PCFGFullReverse\"\n",
    "]\n",
    "\n",
    "results = []\n",
    "for grammar_name in grammar_names:\n",
    "    with open(results_dir / f\"{exp_name}\" / f\"{grammar_name}\" / \"results.json\", \"r\") as f:\n",
    "        result = json.load(f)\n",
    "    results.append(\n",
    "        {\n",
    "            \"grammar_name\": grammar_name,\n",
    "            \"Entropy\": result[\"Entropy\"],\n",
    "        }\n",
    "    )\n",
    "\n",
    "results_df = pd.DataFrame(results)\n",
    "results_df['Delta from Base'] = results_df['Entropy'] - results_df[results_df['grammar_name'] == \"PCFG\"]['Entropy'].values[0]"
   ]
  },
  {
   "cell_type": "code",
   "execution_count": 38,
   "metadata": {},
   "outputs": [
    {
     "data": {
      "text/html": [
       "<div>\n",
       "<style scoped>\n",
       "    .dataframe tbody tr th:only-of-type {\n",
       "        vertical-align: middle;\n",
       "    }\n",
       "\n",
       "    .dataframe tbody tr th {\n",
       "        vertical-align: top;\n",
       "    }\n",
       "\n",
       "    .dataframe thead th {\n",
       "        text-align: right;\n",
       "    }\n",
       "</style>\n",
       "<table border=\"1\" class=\"dataframe\">\n",
       "  <thead>\n",
       "    <tr style=\"text-align: right;\">\n",
       "      <th></th>\n",
       "      <th>grammar_name</th>\n",
       "      <th>Entropy</th>\n",
       "      <th>Delta from Base</th>\n",
       "    </tr>\n",
       "  </thead>\n",
       "  <tbody>\n",
       "    <tr>\n",
       "      <th>0</th>\n",
       "      <td>PCFG</td>\n",
       "      <td>22.143847</td>\n",
       "      <td>0.000000</td>\n",
       "    </tr>\n",
       "    <tr>\n",
       "      <th>1</th>\n",
       "      <td>PCFGDeterministicShuffle</td>\n",
       "      <td>22.144535</td>\n",
       "      <td>0.000688</td>\n",
       "    </tr>\n",
       "    <tr>\n",
       "      <th>2</th>\n",
       "      <td>PCFGNonDeterministicShuffle</td>\n",
       "      <td>22.629365</td>\n",
       "      <td>0.485518</td>\n",
       "    </tr>\n",
       "    <tr>\n",
       "      <th>3</th>\n",
       "      <td>PCFGLocalShuffle</td>\n",
       "      <td>22.145593</td>\n",
       "      <td>0.001746</td>\n",
       "    </tr>\n",
       "    <tr>\n",
       "      <th>4</th>\n",
       "      <td>PCFGEvenOddShuffle</td>\n",
       "      <td>22.145969</td>\n",
       "      <td>0.002122</td>\n",
       "    </tr>\n",
       "    <tr>\n",
       "      <th>5</th>\n",
       "      <td>PCFGNoReverse</td>\n",
       "      <td>22.513290</td>\n",
       "      <td>0.369444</td>\n",
       "    </tr>\n",
       "    <tr>\n",
       "      <th>6</th>\n",
       "      <td>PCFGPartialReverse</td>\n",
       "      <td>22.514031</td>\n",
       "      <td>0.370185</td>\n",
       "    </tr>\n",
       "    <tr>\n",
       "      <th>7</th>\n",
       "      <td>PCFGFullReverse</td>\n",
       "      <td>22.513538</td>\n",
       "      <td>0.369691</td>\n",
       "    </tr>\n",
       "  </tbody>\n",
       "</table>\n",
       "</div>"
      ],
      "text/plain": [
       "                  grammar_name    Entropy  Delta from Base\n",
       "0                         PCFG  22.143847         0.000000\n",
       "1     PCFGDeterministicShuffle  22.144535         0.000688\n",
       "2  PCFGNonDeterministicShuffle  22.629365         0.485518\n",
       "3             PCFGLocalShuffle  22.145593         0.001746\n",
       "4           PCFGEvenOddShuffle  22.145969         0.002122\n",
       "5                PCFGNoReverse  22.513290         0.369444\n",
       "6           PCFGPartialReverse  22.514031         0.370185\n",
       "7              PCFGFullReverse  22.513538         0.369691"
      ]
     },
     "execution_count": 38,
     "metadata": {},
     "output_type": "execute_result"
    }
   ],
   "source": [
    "results_df"
   ]
  },
  {
   "cell_type": "code",
   "execution_count": 30,
   "metadata": {},
   "outputs": [
    {
     "data": {
      "text/plain": [
       "<Axes: xlabel='grammar_name', ylabel='Entropy'>"
      ]
     },
     "execution_count": 30,
     "metadata": {},
     "output_type": "execute_result"
    },
    {
     "data": {
      "image/png": "[encoded data removed]",
      "text/plain": [
       "<Figure size 1000x500 with 1 Axes>"
      ]
     },
     "metadata": {},
     "output_type": "display_data"
    }
   ],
   "source": [
    "# plot\n",
    "import matplotlib.pyplot as plt\n",
    "import seaborn as sns\n",
    "\n",
    "plt.figure(figsize=(10, 5))\n",
    "sns.barplot(x=\"grammar_name\", y=\"Entropy\", data=results_df)"
   ]
  }
 ],
 "metadata": {
  "kernelspec": {
   "display_name": ".venv",
   "language": "python",
   "name": "python3"
  },
  "language_info": {
   "codemirror_mode": {
    "name": "ipython",
    "version": 3
   },
   "file_extension": ".py",
   "mimetype": "text/x-python",
   "name": "python",
   "nbconvert_exporter": "python",
   "pygments_lexer": "ipython3",
   "version": "3.10.8"
  }
 },
 "nbformat": 4,
 "nbformat_minor": 2
}
