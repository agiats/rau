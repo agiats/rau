{
 "cells": [
  {
   "cell_type": "code",
   "execution_count": 6,
   "metadata": {},
   "outputs": [],
   "source": [
    "import pandas as pd\n",
    "import gzip\n",
    "import json\n",
    "import polars as pl"
   ]
  },
  {
   "cell_type": "code",
   "execution_count": 3,
   "metadata": {},
   "outputs": [],
   "source": [
    "with open(\n",
    "    \"/cluster/home/tsomeya/projects/impossible_inherent_entropy/results/length_sampling/100M_samples_eos_zipf_min1_max20/samples.txt\",\n",
    "    \"r\",\n",
    "    encoding=\"utf-8\",\n",
    ") as f:\n",
    "    sentences = [next(f).strip() for _ in range(1_000)]"
   ]
  },
  {
   "cell_type": "code",
   "execution_count": 28,
   "metadata": {},
   "outputs": [],
   "source": [
    "with gzip.open(\n",
    "    \"/cluster/home/tsomeya/projects/impossible_inherent_entropy/results/length_sampling/100_samples_eos_zipf_min1_max20/sample_counts.gz\",\n",
    "    \"rt\",\n",
    "    encoding=\"utf-8\",\n",
    ") as f:\n",
    "    sentence_counts = json.load(f)"
   ]
  },
  {
   "cell_type": "code",
   "execution_count": 29,
   "metadata": {},
   "outputs": [
    {
     "data": {
      "text/plain": [
       "{'appalate sub pi ob bullegate rel amackists ob rebinked [eos]': 1,\n",
       " 'businators sub fusilitateda [eos]': 1,\n",
       " 'la sub mattakateda sa sedundifieda rel appalates sub forigateda [eos]': 1,\n",
       " 'ampercial ob gratened rel ambather ob phonorizeda rel ballisons sub prask amackist ob bunessisteda [eos]': 1,\n",
       " 'mangerizeda rel amackists sub appalate ob gratenizeda sa fanched rel povician sub tawlerized [eos]': 1,\n",
       " 'lustodist sub prask amationist ob bactivitated rel ambather sub remiffs sa squail rel amationists ob yolved [eos]': 1,\n",
       " 'si sub stremord ampercial sub spange blopes ob tirastified sa lurchified rel wolarist sub peaserizes sa pactess [eos]': 1,\n",
       " 'ja sub fusilitates rel autoner ob yolveda rel amationists ob intrinses [eos]': 1,\n",
       " 'pi sub crene amationists ob greanerized [eos]': 1,\n",
       " 'bo ca amackists ob intrinseda da damerticateda rel ballisons ob garfs rel amackist ob gratenizes rel appalate sub saffles [eos]': 1,\n",
       " 'denaticateda rel appalates sub remiffeda [eos]': 1,\n",
       " 'duppist sub me sub spean trapenists sub amationist sub inthippenated sa engarify sa crails sa engarified [eos]': 1,\n",
       " 'flingerician sub bo ob gratenized [eos]': 1,\n",
       " 'si sub remiffeda [eos]': 1,\n",
       " 'apturicize rel hilldomers sub vem rel dorpalists ob gratenize [eos]': 1,\n",
       " 'la sub spange amationist sub la ob intrinses sa formanate [eos]': 1,\n",
       " 'prask da darsh amationist sub amationists sub limbatizeda sa crail rel droinists ob intrinsed [eos]': 1,\n",
       " 'skame fusbenders sub jobsticator ob intrinse da gumitify [eos]': 1,\n",
       " 'crene bactivitor sub duppist ob gratenes [eos]': 1,\n",
       " 'bo sub offaldicated rel purgettor ob nings rel dutingist sub amackist sub remiffed sa engarifies sa engarified [eos]': 1,\n",
       " 'baniticians sub pi sub spectifies da onstigipates sa kurcheda rel baniticians sub maksizeda sa crail [eos]': 1,\n",
       " 'hurperate rel ambathers sub fusilitate [eos]': 1,\n",
       " 'amackists sub blopes sub dreek amationists ob gratenizeda sa kurcheda [eos]': 1,\n",
       " 'dreek bactivitors sub plonth nust sub me sub fusilitated sa engarified sa kurche [eos]': 1,\n",
       " 'ambathers sub bo ob droverate [eos]': 1,\n",
       " 'pi da bolicians sub bo ob intrinse da gratenize [eos]': 1,\n",
       " 'calinelist sub yerg da spange ambathers ob croicerated [eos]': 1,\n",
       " 'framitatored rel dorpal sub clim ambather sub plessicates sa engarifies [eos]': 1,\n",
       " 'amackist sub fumit da darsh sergs ob crotifies da wandifies [eos]': 1,\n",
       " 'si sub portifies da fusilitates da plessicates rel amationist sub offaldicated sa kurches rel amackist sub mangerizes sa conturize [eos]': 1,\n",
       " 'prask bolicater sub denaticated [eos]': 1,\n",
       " 'brellands sub breight hostists ob gratenize [eos]': 1,\n",
       " 'formantors sub fusilitate sa engarified rel botigner sub plessicate rel amationists ob pleddisates sa bules rel amationist sub wogs [eos]': 1,\n",
       " 'se sub plessicated rel amationist sub naridators sub fusilitateda sa lurchifies sa prutified [eos]': 1,\n",
       " 'blide amackists sub spange amackists sub swarmicate rel ambathers ob rebink sa engarifieda [eos]': 1,\n",
       " 'si ob fossicate rel formantors sub ambather sub spange businator ob mafflicates sa engarify [eos]': 1,\n",
       " 'la sub spange da spange bactivitors ob gratenize [eos]': 1,\n",
       " 'shrop dake sub si sub cushars ob penursifere sa engarified [eos]': 1,\n",
       " 'prask ampercial sub si ob pipistrated [eos]': 1,\n",
       " 'pi sub la ob intrinses [eos]': 1,\n",
       " 'si ob sosked rel banitician sub woggeda rel bolitists ob peagerized rel ballison ob bunessisted [eos]': 1,\n",
       " 'benaticianed rel benatician ca bunessator sub phanicized [eos]': 1,\n",
       " 'horrier sub ambather ob duppified [eos]': 1,\n",
       " 'prask amackists sub si ob bullegate sa nobs rel appalate ob engaries rel briticist sub prask bactivitor ob dismaffes [eos]': 1,\n",
       " 'plessicateda rel brellands sub pi sub la ob intrinses sa engarifieda [eos]': 1,\n",
       " 'wuth da threak bellions sub la sub phanicizeda sa buleda [eos]': 1,\n",
       " 'threak dutingists sub blopes sub bilth horriers sub naid amackist ob gratenize sa kurche sa lurchifieda [eos]': 1,\n",
       " 'prask bottist sub amackists ob rawns [eos]': 1,\n",
       " 'drinimat ob gratenizes rel amackist da crene amationist ob disfrinse rel dracconts sub naid amackists ob gratenizeda [eos]': 1,\n",
       " 'bactivitors sub dutingists sub pi ob poutere sa mangered rel dake sub fusilitates sa engarify [eos]': 1,\n",
       " 'bleckmans sub wainster sub mangerizes rel amackist sub la ob kuestified rel amackist ob rawned sa sedundified sa mangereda [eos]': 1,\n",
       " 'fusilitated rel amackist sub peaserizes [eos]': 1,\n",
       " 'bo sub phanicizes [eos]': 1,\n",
       " 'denaticates rel bolician sub gaunch briticist sub fusilitated sa formanates [eos]': 1,\n",
       " 'bilth appalates sub bo sub wogged sa engarify rel benaticians ob rawn [eos]': 1,\n",
       " 'si sub prask cheldor sub mangerized sa kurcheda [eos]': 1,\n",
       " 'bleckman sub spange bullager sub amationists ob gratenized rel amackist sub prask bleckman ob visifies sa formanates sa squailed [eos]': 1,\n",
       " 'prask appalate sub rawned [eos]': 1,\n",
       " 'si sub strove rel bottists sub ja ob stribereda sa engarifieda [eos]': 1,\n",
       " 'amackists sub piliciates rel autoner ca jurb amackist ob skeez rel gumitists ob rawneda [eos]': 1,\n",
       " 'fragion sub dreek frominalers sub la sub bullager ob pouteratize sa engarifieda sa kurches [eos]': 1,\n",
       " 'naid amackists sub bactivitor sub plessicated sa kurche [eos]': 1,\n",
       " 'bo sub scoans [eos]': 1,\n",
       " 'botigner sub amackists ob intrinsed sa lurchify rel shericians sub breaper sub forigates sa humiciane [eos]': 1,\n",
       " 'bilth ronders sub amackist sub crene da prask amationists ob skeezed sa prutifieda [eos]': 1,\n",
       " 'la ob fossicated da stoppisted rel rattiner sub tawlerized [eos]': 1,\n",
       " 'thrope naridators sub framitatore [eos]': 1,\n",
       " 'charched rel ampercial sub darsh bullifist ob wandified [eos]': 1,\n",
       " 'amackists sub bo ob skeez [eos]': 1,\n",
       " 'breight narter sub wog rel amackists sub briticist ob scolterizeda sa formanates [eos]': 1,\n",
       " 'jawp da prask moldicians hi briticist sub meech autoners ob gratenizes sa kurcheda rel bottists sub vem [eos]': 1,\n",
       " 'annoriciate rel bleckmans sub forigate [eos]': 1,\n",
       " 'skame hane sub bo sub amackist ob rawned sa pactessed [eos]': 1,\n",
       " 'prask da hild fossician sub barses da offaldicates [eos]': 1,\n",
       " 'bleckmans sub crene fumitists sub amackist sub ampercials ob enjurifies sa prutifieda sa saunch [eos]': 1,\n",
       " 'prask amackists sub plessicateda [eos]': 1,\n",
       " 'la sub la sub fusilitate sa formanateda rel bactivitors ob intrinse [eos]': 1,\n",
       " 'la ma prask bullifist sub mofustated [eos]': 1,\n",
       " 'piliciates rel amackist sub ambather sub fusilitates sa sergatized [eos]': 1,\n",
       " 'la ma spange amackists sub kuestor sub se sub si ob gratenized sa kurched sa fancheda [eos]': 1,\n",
       " 'amackist sub me lu bo sub prask brelland sub pi ob gratenized sa buled sa sergatizes [eos]': 1,\n",
       " 'amackist sub jurb gratenists ob gratenizes [eos]': 1,\n",
       " 'frominalist ca prask calinelist da se sub remiffed sa crails rel ballison sub se ob gratenize [eos]': 1,\n",
       " 'jont da plonth amackist ca jurb stremorder sub dreek da crene da prask amackist sub remiffs sa prutified [eos]': 1,\n",
       " 'si da si ca bo ca prask stroaters sub benaticians ob justatore [eos]': 1,\n",
       " 'ambathers sub forigate [eos]': 1,\n",
       " 'spange da meech lenns sub prask buestors ob gratenizeda [eos]': 1,\n",
       " 'la sub banitician ob gumitify [eos]': 1,\n",
       " 'la sub bo ob crotify rel amackists sub peachiciane sa pactess sa prutifies rel gumitist sub filked da fusilitated [eos]': 1,\n",
       " 'fusbend ambathers sub ranaters sub rolves rel amationist ob engarieda sa formanate [eos]': 1,\n",
       " 'amackists sub prask banitician ob gratenizeda [eos]': 1,\n",
       " 'plessicateda rel amationists sub tharoner sub povicians sub la ob skeezeda sa lurchifies sa engarifieda [eos]': 1,\n",
       " 'penessers sub bo ob zurched da tirastified rel ambather ob jeap [eos]': 1,\n",
       " 'calin da prask da streck da spange da prask amackist ca striberists sub si sub wog sa kurche [eos]': 1,\n",
       " 'sergators ob blamiciate rel bullawers sub woggeda [eos]': 1,\n",
       " 'crene da spange da spange fremator sub si sub plessicateda sa formanates [eos]': 1,\n",
       " 'se sub wogged sa crailed rel botigner sub si ob phoisifies rel bleckman ob chozed [eos]': 1,\n",
       " 'streck flingerician sub broaled [eos]': 1,\n",
       " 'appalates sub amationist sub ambathers ob bactivitates sa engarify [eos]': 1,\n",
       " 'bo sub flingericians ob skeezes rel jonter ob baniticates sa engarified rel ballison ob gratenize rel lustodists sub fusilitate [eos]': 1}"
      ]
     },
     "execution_count": 29,
     "metadata": {},
     "output_type": "execute_result"
    }
   ],
   "source": [
    "sentence_counts"
   ]
  },
  {
   "cell_type": "code",
   "execution_count": 13,
   "metadata": {},
   "outputs": [],
   "source": [
    "df = pl.DataFrame(\n",
    "    {\"sentence\": list(sentence_counts.keys()), \"count\": list(sentence_counts.values())}\n",
    ")"
   ]
  },
  {
   "cell_type": "code",
   "execution_count": 44,
   "metadata": {},
   "outputs": [],
   "source": [
    "df = pl.read_csv(\n",
    "    \"/cluster/home/tsomeya/projects/impossible_inherent_entropy/results/length_sampling/100_samples_eos_zipf_min1_max20/true_prob.json.gz\",\n",
    "    new_columns=[\"sentence\", \"count\"],\n",
    ")"
   ]
  },
  {
   "cell_type": "code",
   "execution_count": 45,
   "metadata": {},
   "outputs": [
    {
     "data": {
      "text/html": [
       "<div><style>\n",
       ".dataframe > thead > tr,\n",
       ".dataframe > tbody > tr {\n",
       "  text-align: right;\n",
       "  white-space: pre-wrap;\n",
       "}\n",
       "</style>\n",
       "<small>shape: (3, 4)</small><table border=\"1\" class=\"dataframe\"><thead><tr><th>sentence</th><th>count</th><th>true_log_prob</th><th>true_prob</th></tr><tr><td>str</td><td>i64</td><td>f64</td><td>f64</td></tr></thead><tbody><tr><td>&quot;businators sub fusilitateda [e…</td><td>1</td><td>1.0</td><td>2.718282</td></tr><tr><td>&quot;appalate sub pi ob bullegate r…</td><td>1</td><td>1.0</td><td>2.718282</td></tr><tr><td>&quot;\u0003\u0000\u0000\u0000\u0000\u0000\u0000\u0000\u0000\u0000&quot;</td><td>null</td><td>null</td><td>null</td></tr></tbody></table></div>"
      ],
      "text/plain": [
       "shape: (3, 4)\n",
       "┌─────────────────────────────────┬───────┬───────────────┬───────────┐\n",
       "│ sentence                        ┆ count ┆ true_log_prob ┆ true_prob │\n",
       "│ ---                             ┆ ---   ┆ ---           ┆ ---       │\n",
       "│ str                             ┆ i64   ┆ f64           ┆ f64       │\n",
       "╞═════════════════════════════════╪═══════╪═══════════════╪═══════════╡\n",
       "│ businators sub fusilitateda [e… ┆ 1     ┆ 1.0           ┆ 2.718282  │\n",
       "│ appalate sub pi ob bullegate r… ┆ 1     ┆ 1.0           ┆ 2.718282  │\n",
       "│ \u0003\u0000\u0000\u0000\u0000\u0000\u0000\u0000\u0000\u0000                      ┆ null  ┆ null          ┆ null      │\n",
       "└─────────────────────────────────┴───────┴───────────────┴───────────┘"
      ]
     },
     "execution_count": 45,
     "metadata": {},
     "output_type": "execute_result"
    }
   ],
   "source": [
    "df"
   ]
  },
  {
   "cell_type": "code",
   "execution_count": 4,
   "metadata": {},
   "outputs": [
    {
     "name": "stderr",
     "output_type": "stream",
     "text": [
      "/tmp/ipykernel_2907062/59962965.py:13: DeprecationWarning: `pl.count()` is deprecated. Please use `pl.len()` instead.\n",
      "  .agg(pl.count().alias(\"count\"))\n"
     ]
    }
   ],
   "source": [
    "# df = (\n",
    "#     pl.scan_csv(\n",
    "#         \"/cluster/home/tsomeya/projects/impossible_inherent_entropy/results/length_sampling/base-grammar_eos_zipf/samples.txt.gz\",\n",
    "#         separator=\"\\n\",\n",
    "#         has_header=False,\n",
    "#         new_columns=[\"sentence\"],\n",
    "#     )\n",
    "#     .collect()\n",
    "#     .with_columns(\n",
    "#         pl.col(\"sentence\").str.strip_chars()\n",
    "#     )  # Use str.strip_chars() instead of str.strip()\n",
    "#     .group_by(\"sentence\")\n",
    "#     .agg(pl.count().alias(\"count\"))\n",
    "# )"
   ]
  },
  {
   "cell_type": "code",
   "execution_count": 15,
   "metadata": {},
   "outputs": [
    {
     "name": "stdout",
     "output_type": "stream",
     "text": [
      "shape: (1, 2)\n",
      "┌───────┬───────────┐\n",
      "│ count ┆ frequency │\n",
      "│ ---   ┆ ---       │\n",
      "│ i64   ┆ u32       │\n",
      "╞═══════╪═══════════╡\n",
      "│ 1     ┆ 100       │\n",
      "└───────┴───────────┘\n"
     ]
    },
    {
     "name": "stderr",
     "output_type": "stream",
     "text": [
      "/tmp/ipykernel_2907062/1311824965.py:2: DeprecationWarning: `pl.count()` is deprecated. Please use `pl.len()` instead.\n",
      "  df.group_by(\"count\").agg(pl.count().alias(\"frequency\")).sort(\"count\")\n"
     ]
    }
   ],
   "source": [
    "count_distribution = (\n",
    "    df.group_by(\"count\").agg(pl.count().alias(\"frequency\")).sort(\"count\")\n",
    ")\n",
    "print(count_distribution)"
   ]
  },
  {
   "cell_type": "code",
   "execution_count": 16,
   "metadata": {},
   "outputs": [
    {
     "name": "stderr",
     "output_type": "stream",
     "text": [
      "/tmp/ipykernel_2907062/608659407.py:8: DeprecationWarning: `pl.count()` is deprecated. Please use `pl.len()` instead.\n",
      "  n=pl.when(pl.count() >= target_samples_per_count)\n",
      "/tmp/ipykernel_2907062/608659407.py:10: DeprecationWarning: `pl.count()` is deprecated. Please use `pl.len()` instead.\n",
      "  .otherwise(pl.count())\n"
     ]
    }
   ],
   "source": [
    "target_samples_per_count = 100\n",
    "\n",
    "# 各countグループからサンプリング\n",
    "balanced_df = (\n",
    "    df.group_by(\"count\")\n",
    "    .agg(\n",
    "        pl.col(\"sentence\").sample(\n",
    "            n=pl.when(pl.count() >= target_samples_per_count)\n",
    "            .then(target_samples_per_count)\n",
    "            .otherwise(pl.count())\n",
    "        )\n",
    "    )\n",
    "    .sort(\"count\")\n",
    ")"
   ]
  },
  {
   "cell_type": "code",
   "execution_count": 17,
   "metadata": {},
   "outputs": [
    {
     "data": {
      "text/html": [
       "<div><style>\n",
       ".dataframe > thead > tr,\n",
       ".dataframe > tbody > tr {\n",
       "  text-align: right;\n",
       "  white-space: pre-wrap;\n",
       "}\n",
       "</style>\n",
       "<small>shape: (1, 2)</small><table border=\"1\" class=\"dataframe\"><thead><tr><th>count</th><th>sentence</th></tr><tr><td>i64</td><td>list[str]</td></tr></thead><tbody><tr><td>1</td><td>[&quot;appalate sub pi ob bullegate rel amackists ob rebinked [eos]&quot;, &quot;businators sub fusilitateda [eos]&quot;, … &quot;bo sub flingericians ob skeezes rel jonter ob baniticates sa engarified rel ballison ob gratenize rel lustodists sub fusilitate [eos]&quot;]</td></tr></tbody></table></div>"
      ],
      "text/plain": [
       "shape: (1, 2)\n",
       "┌───────┬─────────────────────────────────┐\n",
       "│ count ┆ sentence                        │\n",
       "│ ---   ┆ ---                             │\n",
       "│ i64   ┆ list[str]                       │\n",
       "╞═══════╪═════════════════════════════════╡\n",
       "│ 1     ┆ [\"appalate sub pi ob bullegate… │\n",
       "└───────┴─────────────────────────────────┘"
      ]
     },
     "execution_count": 17,
     "metadata": {},
     "output_type": "execute_result"
    }
   ],
   "source": [
    "balanced_df"
   ]
  },
  {
   "cell_type": "code",
   "execution_count": 18,
   "metadata": {},
   "outputs": [
    {
     "name": "stdout",
     "output_type": "stream",
     "text": [
      "\n",
      "Samples obtained from each count group:\n",
      "shape: (1, 2)\n",
      "┌───────┬─────────┐\n",
      "│ count ┆ sampled │\n",
      "│ ---   ┆ ---     │\n",
      "│ i64   ┆ u32     │\n",
      "╞═══════╪═════════╡\n",
      "│ 1     ┆ 100     │\n",
      "└───────┴─────────┘\n"
     ]
    }
   ],
   "source": [
    "sampled_dist = (\n",
    "    balanced_df.explode(\"sentence\")\n",
    "    .group_by(\"count\")\n",
    "    .agg(pl.count(\"sentence\").alias(\"sampled\"))\n",
    "    .sort(\"count\")\n",
    ")\n",
    "print(\"\\nSamples obtained from each count group:\")\n",
    "print(sampled_dist)"
   ]
  },
  {
   "cell_type": "code",
   "execution_count": 19,
   "metadata": {},
   "outputs": [],
   "source": [
    "sampled_sentences = balanced_df.get_column(\"sentence\").explode().to_list()"
   ]
  },
  {
   "cell_type": "code",
   "execution_count": 20,
   "metadata": {},
   "outputs": [
    {
     "data": {
      "text/plain": [
       "100"
      ]
     },
     "execution_count": 20,
     "metadata": {},
     "output_type": "execute_result"
    }
   ],
   "source": [
    "len(sampled_sentences)"
   ]
  },
  {
   "cell_type": "code",
   "execution_count": 26,
   "metadata": {},
   "outputs": [],
   "source": [
    "with gzip.open(\n",
    "    \"/cluster/home/tsomeya/projects/impossible_inherent_entropy/results/length_sampling/100M_samples_eos_zipf_min1_max20/filtered_samples.txt.gz\",\n",
    "    \"rt\",\n",
    "    encoding=\"utf-8\",\n",
    ") as f:\n",
    "    sentences = f.readlines()"
   ]
  },
  {
   "cell_type": "code",
   "execution_count": 27,
   "metadata": {},
   "outputs": [
    {
     "data": {
      "text/plain": [
       "26442"
      ]
     },
     "execution_count": 27,
     "metadata": {},
     "output_type": "execute_result"
    }
   ],
   "source": [
    "len(sentences)"
   ]
  }
 ],
 "metadata": {
  "kernelspec": {
   "display_name": ".venv",
   "language": "python",
   "name": "python3"
  },
  "language_info": {
   "codemirror_mode": {
    "name": "ipython",
    "version": 3
   },
   "file_extension": ".py",
   "mimetype": "text/x-python",
   "name": "python",
   "nbconvert_exporter": "python",
   "pygments_lexer": "ipython3",
   "version": "3.10.13"
  }
 },
 "nbformat": 4,
 "nbformat_minor": 2
}
