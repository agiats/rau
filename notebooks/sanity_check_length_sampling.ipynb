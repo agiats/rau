{
 "cells": [
  {
   "cell_type": "code",
   "execution_count": 2,
   "metadata": {},
   "outputs": [
    {
     "data": {
      "text/plain": [
       "polars.config.Config"
      ]
     },
     "execution_count": 2,
     "metadata": {},
     "output_type": "execute_result"
    }
   ],
   "source": [
    "import pandas as pd\n",
    "import gzip\n",
    "import polars as pl\n",
    "from pathlib import Path\n",
    "\n",
    "pl.Config.set_tbl_rows(1000)"
   ]
  },
  {
   "cell_type": "code",
   "execution_count": 3,
   "metadata": {},
   "outputs": [
    {
     "name": "stdout",
     "output_type": "stream",
     "text": [
      "100 files loaded\n"
     ]
    }
   ],
   "source": [
    "exp_name = \"100M_samples_eos_zipf_min1_max20\"\n",
    "exp_dir = Path(f\"../results/length_sampling/{exp_name}\")\n",
    "dfs = []\n",
    "\n",
    "# *.json,gz\n",
    "for file in exp_dir.glob(\"*of_100.json.gz\"):\n",
    "    with gzip.open(file, \"rt\") as f:\n",
    "        df = pd.read_json(f, lines=True, orient=\"records\")\n",
    "        dfs.append(df)\n",
    "\n",
    "print(f\"{len(dfs)} files loaded\")\n",
    "df = pd.concat(dfs, ignore_index=True)"
   ]
  },
  {
   "cell_type": "code",
   "execution_count": 10,
   "metadata": {},
   "outputs": [],
   "source": [
    "import sys\n",
    "\n",
    "sys.path.append(\"..\")\n",
    "from src.length_sampling.sampler import construct_pcfg_sampler\n",
    "from src.length_sampling.grammars.pcfg import Grammar\n",
    "from src.length_sampling.grammars.cfg import Nonterminal\n",
    "from src.length_sampling.util import group_by, get_random_generator_and_seed\n",
    "import argparse\n",
    "import concurrent.futures\n",
    "from pathlib import Path\n",
    "from tqdm import tqdm\n",
    "from collections import Counter\n",
    "import json\n",
    "import gzip\n",
    "from src.length_sampling.lower_bound_perplexity import (\n",
    "    parts_to_perplexity,\n",
    "    Parts,\n",
    ")\n",
    "import math"
   ]
  },
  {
   "cell_type": "code",
   "execution_count": 7,
   "metadata": {},
   "outputs": [],
   "source": [
    "grammar_file = \"../data_gen/base-grammar_eos_zipf.gr\"\n",
    "start_symbol = \"S\"\n",
    "normalize = True\n",
    "grammar = Grammar.from_file(grammar_file, Nonterminal(start_symbol), normalize)\n",
    "sampler = construct_pcfg_sampler(grammar)"
   ]
  },
  {
   "cell_type": "code",
   "execution_count": 11,
   "metadata": {},
   "outputs": [],
   "source": [
    "# calculate lower bound perplexity\n",
    "min_length = 1\n",
    "max_length = 20\n",
    "valid_lengths = sampler.valid_lengths(min_length, max_length)\n",
    "total_neg_log_prob = -1.0 * df[\"true_log_prob\"].sum()\n",
    "\n",
    "df[\"sent_len\"] = df[\"sentence\"].map(lambda x: len(x.split()))\n",
    "total_len = (df[\"sent_len\"] * df[\"count\"]).sum()\n",
    "num_samples = df[\"count\"].sum()\n",
    "parts = Parts(total_neg_log_prob, total_len, num_samples)\n",
    "perplexity = parts_to_perplexity(parts, len(valid_lengths))\n",
    "entropy = math.log(perplexity)"
   ]
  },
  {
   "cell_type": "code",
   "execution_count": 13,
   "metadata": {},
   "outputs": [
    {
     "data": {
      "text/plain": [
       "(15.88170012977247, 2.765167511157158)"
      ]
     },
     "execution_count": 13,
     "metadata": {},
     "output_type": "execute_result"
    }
   ],
   "source": [
    "perplexity, entropy"
   ]
  },
  {
   "cell_type": "markdown",
   "metadata": {},
   "source": [
    "## sanity check"
   ]
  },
  {
   "cell_type": "code",
   "execution_count": 22,
   "metadata": {},
   "outputs": [
    {
     "data": {
      "image/png": "[encoded data removed]",
      "text/plain": [
       "<Figure size 1200x600 with 1 Axes>"
      ]
     },
     "metadata": {},
     "output_type": "display_data"
    }
   ],
   "source": [
    "sample_size = 100_000_000\n",
    "df[\"estimated_prob\"] = df[\"count\"] / sample_size\n",
    "\n",
    "\n",
    "def plot_sentence_count_distribution(df, output_path):\n",
    "    \"\"\"\n",
    "    Plots the distribution of sentence counts on a log scale.\n",
    "\n",
    "    Args:\n",
    "        df (pd.DataFrame): DataFrame containing the 'count' column.\n",
    "    \"\"\"\n",
    "    import matplotlib.pyplot as plt\n",
    "    import numpy as np\n",
    "\n",
    "    plt.figure(figsize=(12, 6))\n",
    "\n",
    "    plt.hist(\n",
    "        df[\"count\"],\n",
    "        log=True,\n",
    "        alpha=0.7,\n",
    "        color=\"#2E86C1\",\n",
    "        edgecolor=\"white\",\n",
    "        linewidth=0.5,\n",
    "    )\n",
    "    plt.xscale(\"log\")\n",
    "\n",
    "    plt.title(\"Distribution of Sentence Counts (Log Scale)\", fontsize=12, pad=15)\n",
    "    plt.xlabel(\"Count (log scale)\", fontsize=10)\n",
    "    plt.ylabel(\"Frequency (log scale)\", fontsize=10)\n",
    "    plt.grid(True, which=\"both\", ls=\"-\", alpha=0.1)\n",
    "\n",
    "    plt.gca().spines[\"top\"].set_visible(False)\n",
    "    plt.gca().spines[\"right\"].set_visible(False)\n",
    "\n",
    "    plt.tight_layout()\n",
    "    plt.show()\n",
    "\n",
    "    if output_path:\n",
    "        plt.savefig(output_path)\n",
    "\n",
    "\n",
    "# Call the function\n",
    "plot_sentence_count_distribution(df)"
   ]
  },
  {
   "cell_type": "code",
   "execution_count": 17,
   "metadata": {},
   "outputs": [
    {
     "data": {
      "text/html": [
       "<div>\n",
       "<style scoped>\n",
       "    .dataframe tbody tr th:only-of-type {\n",
       "        vertical-align: middle;\n",
       "    }\n",
       "\n",
       "    .dataframe tbody tr th {\n",
       "        vertical-align: top;\n",
       "    }\n",
       "\n",
       "    .dataframe thead th {\n",
       "        text-align: right;\n",
       "    }\n",
       "</style>\n",
       "<table border=\"1\" class=\"dataframe\">\n",
       "  <thead>\n",
       "    <tr style=\"text-align: right;\">\n",
       "      <th></th>\n",
       "      <th>sentence</th>\n",
       "      <th>count</th>\n",
       "      <th>true_log_prob</th>\n",
       "      <th>true_prob</th>\n",
       "      <th>sent_len</th>\n",
       "      <th>estimated_prob</th>\n",
       "    </tr>\n",
       "  </thead>\n",
       "  <tbody>\n",
       "    <tr>\n",
       "      <th>0</th>\n",
       "      <td>prask appalates sub woggeda [eos]</td>\n",
       "      <td>1</td>\n",
       "      <td>-9.486972</td>\n",
       "      <td>7.583336e-05</td>\n",
       "      <td>5</td>\n",
       "      <td>1.000000e-08</td>\n",
       "    </tr>\n",
       "    <tr>\n",
       "      <th>1</th>\n",
       "      <td>jurb amackists sub mangerize [eos]</td>\n",
       "      <td>1</td>\n",
       "      <td>-8.753003</td>\n",
       "      <td>1.579862e-04</td>\n",
       "      <td>5</td>\n",
       "      <td>1.000000e-08</td>\n",
       "    </tr>\n",
       "    <tr>\n",
       "      <th>2</th>\n",
       "      <td>plonth breapers sub vem [eos]</td>\n",
       "      <td>1</td>\n",
       "      <td>-13.723395</td>\n",
       "      <td>1.096492e-06</td>\n",
       "      <td>5</td>\n",
       "      <td>1.000000e-08</td>\n",
       "    </tr>\n",
       "    <tr>\n",
       "      <th>3</th>\n",
       "      <td>autoner sub gasted [eos]</td>\n",
       "      <td>1</td>\n",
       "      <td>-9.567243</td>\n",
       "      <td>6.998409e-05</td>\n",
       "      <td>4</td>\n",
       "      <td>1.000000e-08</td>\n",
       "    </tr>\n",
       "    <tr>\n",
       "      <th>4</th>\n",
       "      <td>amackists sub filkeda [eos]</td>\n",
       "      <td>1</td>\n",
       "      <td>-8.269017</td>\n",
       "      <td>2.563371e-04</td>\n",
       "      <td>4</td>\n",
       "      <td>1.000000e-08</td>\n",
       "    </tr>\n",
       "    <tr>\n",
       "      <th>...</th>\n",
       "      <td>...</td>\n",
       "      <td>...</td>\n",
       "      <td>...</td>\n",
       "      <td>...</td>\n",
       "      <td>...</td>\n",
       "      <td>...</td>\n",
       "    </tr>\n",
       "    <tr>\n",
       "      <th>995</th>\n",
       "      <td>streck bellion sub se sub fusilitates sa engar...</td>\n",
       "      <td>1</td>\n",
       "      <td>-36.242217</td>\n",
       "      <td>1.820561e-16</td>\n",
       "      <td>18</td>\n",
       "      <td>1.000000e-08</td>\n",
       "    </tr>\n",
       "    <tr>\n",
       "      <th>996</th>\n",
       "      <td>prask da prask amationists sub me sub fusbend ...</td>\n",
       "      <td>1</td>\n",
       "      <td>-45.363272</td>\n",
       "      <td>1.990587e-20</td>\n",
       "      <td>18</td>\n",
       "      <td>1.000000e-08</td>\n",
       "    </tr>\n",
       "    <tr>\n",
       "      <th>997</th>\n",
       "      <td>si sub ampercials ob duppify sa crail rel bena...</td>\n",
       "      <td>1</td>\n",
       "      <td>-48.046069</td>\n",
       "      <td>1.360997e-21</td>\n",
       "      <td>20</td>\n",
       "      <td>1.000000e-08</td>\n",
       "    </tr>\n",
       "    <tr>\n",
       "      <th>998</th>\n",
       "      <td>bo sub si sub si sub bleckman sub fusilitates ...</td>\n",
       "      <td>1</td>\n",
       "      <td>-36.157222</td>\n",
       "      <td>1.982065e-16</td>\n",
       "      <td>20</td>\n",
       "      <td>1.000000e-08</td>\n",
       "    </tr>\n",
       "    <tr>\n",
       "      <th>999</th>\n",
       "      <td>bilth voncenists sub spange amackists sub form...</td>\n",
       "      <td>1</td>\n",
       "      <td>-53.898395</td>\n",
       "      <td>3.910428e-24</td>\n",
       "      <td>20</td>\n",
       "      <td>1.000000e-08</td>\n",
       "    </tr>\n",
       "  </tbody>\n",
       "</table>\n",
       "<p>1000 rows × 6 columns</p>\n",
       "</div>"
      ],
      "text/plain": [
       "                                              sentence  count  true_log_prob  \\\n",
       "0                    prask appalates sub woggeda [eos]      1      -9.486972   \n",
       "1                   jurb amackists sub mangerize [eos]      1      -8.753003   \n",
       "2                        plonth breapers sub vem [eos]      1     -13.723395   \n",
       "3                             autoner sub gasted [eos]      1      -9.567243   \n",
       "4                          amackists sub filkeda [eos]      1      -8.269017   \n",
       "..                                                 ...    ...            ...   \n",
       "995  streck bellion sub se sub fusilitates sa engar...      1     -36.242217   \n",
       "996  prask da prask amationists sub me sub fusbend ...      1     -45.363272   \n",
       "997  si sub ampercials ob duppify sa crail rel bena...      1     -48.046069   \n",
       "998  bo sub si sub si sub bleckman sub fusilitates ...      1     -36.157222   \n",
       "999  bilth voncenists sub spange amackists sub form...      1     -53.898395   \n",
       "\n",
       "        true_prob  sent_len  estimated_prob  \n",
       "0    7.583336e-05         5    1.000000e-08  \n",
       "1    1.579862e-04         5    1.000000e-08  \n",
       "2    1.096492e-06         5    1.000000e-08  \n",
       "3    6.998409e-05         4    1.000000e-08  \n",
       "4    2.563371e-04         4    1.000000e-08  \n",
       "..            ...       ...             ...  \n",
       "995  1.820561e-16        18    1.000000e-08  \n",
       "996  1.990587e-20        18    1.000000e-08  \n",
       "997  1.360997e-21        20    1.000000e-08  \n",
       "998  1.982065e-16        20    1.000000e-08  \n",
       "999  3.910428e-24        20    1.000000e-08  \n",
       "\n",
       "[1000 rows x 6 columns]"
      ]
     },
     "execution_count": 17,
     "metadata": {},
     "output_type": "execute_result"
    }
   ],
   "source": [
    "df"
   ]
  },
  {
   "cell_type": "code",
   "execution_count": 18,
   "metadata": {},
   "outputs": [
    {
     "name": "stdout",
     "output_type": "stream",
     "text": [
      "KL Divergence (Monte Carlo): 3.896420\n"
     ]
    }
   ],
   "source": [
    "# KL divergence\n",
    "import numpy as np\n",
    "from scipy.stats import entropy\n",
    "\n",
    "# Monte Carlo estimation\n",
    "kl_div_monte_carlo = entropy(df[\"true_prob\"], df[\"estimated_prob\"])\n",
    "\n",
    "print(f\"KL Divergence (Monte Carlo): {kl_div_monte_carlo:.6f}\")"
   ]
  },
  {
   "cell_type": "code",
   "execution_count": 20,
   "metadata": {},
   "outputs": [
    {
     "data": {
      "image/png": "[encoded data removed]",
      "text/plain": [
       "<Figure size 1200x600 with 1 Axes>"
      ]
     },
     "metadata": {},
     "output_type": "display_data"
    }
   ],
   "source": [
    "import matplotlib.pyplot as plt\n",
    "\n",
    "\n",
    "def plot_probability_distributions(\n",
    "    data, comparison_name, comparison_prob, figsize=(12, 6)\n",
    "):\n",
    "    \"\"\"\n",
    "    Plot true probability distribution with one comparison distribution\n",
    "\n",
    "    Args:\n",
    "        data (pd.DataFrame): DataFrame containing true_prob\n",
    "        comparison_name (str): Name of the comparison distribution\n",
    "        comparison_prob (np.array): Probability values of the comparison distribution\n",
    "        figsize (tuple): Figure size\n",
    "    \"\"\"\n",
    "    plt.figure(figsize=figsize)\n",
    "\n",
    "    # Create bins for histogram\n",
    "    bins = np.logspace(\n",
    "        np.log10(data[\"true_prob\"].min()), np.log10(data[\"true_prob\"].max()), num=30\n",
    "    )\n",
    "\n",
    "    # Plot both distributions\n",
    "    plt.hist(\n",
    "        data[\"true_prob\"],\n",
    "        bins=bins,\n",
    "        log=True,\n",
    "        alpha=0.5,\n",
    "        color=\"#2E86C1\",\n",
    "        edgecolor=\"white\",\n",
    "        linewidth=0.5,\n",
    "        label=\"True Probability\",\n",
    "    )\n",
    "\n",
    "    plt.hist(\n",
    "        comparison_prob,\n",
    "        bins=bins,\n",
    "        log=True,\n",
    "        alpha=0.5,\n",
    "        color=\"#E74C3C\",\n",
    "        edgecolor=\"white\",\n",
    "        linewidth=0.5,\n",
    "        label=comparison_name,\n",
    "    )\n",
    "\n",
    "    plt.xscale(\"log\")\n",
    "    plt.title(f\"True Probability vs {comparison_name} (Log Scale)\", fontsize=12, pad=15)\n",
    "    plt.xlabel(\"Probability (log scale)\", fontsize=10)\n",
    "    plt.ylabel(\"Frequency (log scale)\", fontsize=10)\n",
    "    plt.legend()\n",
    "    plt.grid(True, which=\"both\", ls=\"-\", alpha=0.1)\n",
    "    plt.gca().spines[\"top\"].set_visible(False)\n",
    "    plt.gca().spines[\"right\"].set_visible(False)\n",
    "\n",
    "    plt.tight_layout()\n",
    "    plt.show()\n",
    "\n",
    "\n",
    "plot_probability_distributions(df, \"Monte-Carlo\", df[\"estimated_prob\"])"
   ]
  }
 ],
 "metadata": {
  "kernelspec": {
   "display_name": ".venv",
   "language": "python",
   "name": "python3"
  },
  "language_info": {
   "codemirror_mode": {
    "name": "ipython",
    "version": 3
   },
   "file_extension": ".py",
   "mimetype": "text/x-python",
   "name": "python",
   "nbconvert_exporter": "python",
   "pygments_lexer": "ipython3",
   "version": "3.10.13"
  }
 },
 "nbformat": 4,
 "nbformat_minor": 2
}
