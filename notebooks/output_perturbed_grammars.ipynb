{
 "cells": [
  {
   "cell_type": "code",
   "execution_count": 5,
   "metadata": {},
   "outputs": [
    {
     "data": {
      "text/plain": [
       "33251"
      ]
     },
     "execution_count": 5,
     "metadata": {},
     "output_type": "execute_result"
    }
   ],
   "source": [
    "# # add eos to base grammar\n",
    "# from pathlib import Path\n",
    "\n",
    "# output_folder = Path(\"data_gen/grammars\")\n",
    "# base_grammar_path = Path(\"data_gen/base-grammar.gr\")\n",
    "# output_folder.mkdir(exist_ok=True)\n",
    "# base_grammar = base_grammar_path.read_text()\n",
    "\n",
    "# new_grammar = []\n",
    "# for rules in base_grammar.split(\"\\n\"):\n",
    "#     if rules:\n",
    "#         rules = rules.split('\\t')\n",
    "#         if len(rules) != 4:\n",
    "#             weight, left, right = rules\n",
    "#             if left == \"S\":\n",
    "#                 new_grammar.append(f\"{weight}\\t{left}\\t{right} EOS\")\n",
    "#             else:\n",
    "#                 new_grammar.append(\"\\t\".join(rules))\n",
    "#         else: # has switch\n",
    "#             weight, left, right, switch = rules\n",
    "#             if left == \"S\": # add EOS\n",
    "#                 new_grammar.append(f\"{weight}\\t{left}\\t{right} EOS\\t{switch}\")\n",
    "#             else:\n",
    "#                 new_grammar.append(f\"{weight}\\t{left}\\t{right}\\t{switch}\")\n",
    "\n",
    "# # add EOS to the grammar\n",
    "# eos_rule = \"1\\tEOS\\t[eos]\"\n",
    "# new_grammar.append(eos_rule)\n",
    "\n",
    "# base_grammar_path = Path(\"data_gen/base-grammar_eos.gr\")\n",
    "# base_grammar_path.write_text(\"\\n\".join(new_grammar))"
   ]
  },
  {
   "cell_type": "code",
   "execution_count": 9,
   "metadata": {},
   "outputs": [],
   "source": [
    "from pathlib import Path\n",
    "\n",
    "output_folder = Path(\"data_gen/grammars\")\n",
    "base_grammar_path = Path(\"data_gen/base-grammar_eos.gr\")\n",
    "output_folder.mkdir(exist_ok=True)\n",
    "base_grammar = base_grammar_path.read_text()\n",
    "for i in range(64):\n",
    "    grammar_name = format(i, \"06b\")[::-1]\n",
    "\n",
    "    switched_on = [bool(int(x)) for x in grammar_name]\n",
    "    # switch on index\n",
    "    switched_on = [i + 1 for i, x in enumerate(switched_on) if x]\n",
    "    # # switch the grammar\n",
    "    new_grammar = []\n",
    "    for rules in base_grammar.split(\"\\n\"):\n",
    "        if rules:\n",
    "            rules = rules.split(\"\\t\")\n",
    "            if rules[1] == \"ROOT\":  # skip ROOT\n",
    "                continue\n",
    "            if len(rules) != 4:\n",
    "                weight, left, right = rules\n",
    "                new_grammar.append(\"\\t\".join(rules))\n",
    "            else:  # has switch\n",
    "                weight, left, right, switch = rules\n",
    "                if int(switch) in switched_on:\n",
    "                    # flip right\n",
    "                    right = right.split(\" \")\n",
    "                    right = right[::-1]\n",
    "                    right = \" \".join(right)\n",
    "\n",
    "                new_grammar.append(f\"{weight}\\t{left}\\t{right}\\t{switch}\")\n",
    "\n",
    "    output_file = output_folder / f\"grammar_{grammar_name}.gr\"\n",
    "    output_file.write_text(\"\\n\".join(new_grammar))\n",
    "\n",
    "#     #\n",
    "#     output_file = os.path.join(args.output_folder,\n",
    "#         \"sample_\" + grammar_name + \".txt\")\n",
    "#     generate_sentence_file(i, sentences, output_file)"
   ]
  }
 ],
 "metadata": {
  "kernelspec": {
   "display_name": "Python 3",
   "language": "python",
   "name": "python3"
  },
  "language_info": {
   "codemirror_mode": {
    "name": "ipython",
    "version": 3
   },
   "file_extension": ".py",
   "mimetype": "text/x-python",
   "name": "python",
   "nbconvert_exporter": "python",
   "pygments_lexer": "ipython3",
   "version": "3.10.6"
  }
 },
 "nbformat": 4,
 "nbformat_minor": 2
}
