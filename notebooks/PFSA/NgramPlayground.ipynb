{
 "cells": [
  {
   "cell_type": "code",
   "execution_count": 1,
   "metadata": {},
   "outputs": [],
   "source": [
    "from itertools import product\n",
    "\n",
    "import numpy as np\n",
    "\n",
    "from fsa_generator import random_ngram"
   ]
  },
  {
   "cell_type": "code",
   "execution_count": 2,
   "metadata": {},
   "outputs": [],
   "source": [
    "A = random_ngram(2, 2, 1)"
   ]
  },
  {
   "cell_type": "code",
   "execution_count": 3,
   "metadata": {},
   "outputs": [
    {
     "data": {
      "text/html": [
       "\n",
       "       <script>\n",
       "       try {\n",
       "       require.config({\n",
       "       paths: {\n",
       "       \"d3\": \"https://cdnjs.cloudflare.com/ajax/libs/d3/4.13.0/d3\",\n",
       "       \"dagreD3\": \"https://cdnjs.cloudflare.com/ajax/libs/dagre-d3/0.6.1/dagre-d3.min\"\n",
       "       }\n",
       "       });\n",
       "       } catch {\n",
       "       [\"https://cdnjs.cloudflare.com/ajax/libs/d3/4.13.0/d3.js\",\n",
       "       \"https://cdnjs.cloudflare.com/ajax/libs/dagre-d3/0.6.1/dagre-d3.min.js\"].forEach(\n",
       "            function (src) {\n",
       "            var tag = document.createElement('script');\n",
       "            tag.src = src;\n",
       "            document.body.appendChild(tag);\n",
       "            }\n",
       "        )\n",
       "        }\n",
       "        try {\n",
       "        requirejs(['d3', 'dagreD3'], function() {});\n",
       "        } catch (e) {}\n",
       "        try {\n",
       "        require(['d3', 'dagreD3'], function() {});\n",
       "        } catch (e) {}\n",
       "        </script>\n",
       "        <style>\n",
       "        .node rect,\n",
       "        .node circle,\n",
       "        .node ellipse {\n",
       "        stroke: #333;\n",
       "        fill: #fff;\n",
       "        stroke-width: 1px;\n",
       "        }\n",
       "\n",
       "        .edgePath path {\n",
       "        stroke: #333;\n",
       "        fill: #333;\n",
       "        stroke-width: 1.5px;\n",
       "        }\n",
       "        </style>\n",
       "        <center><svg width=\"850\" height=\"600\" id=\"fst_6cf38c4f17ad4a4ebcac78e6c586b628\"><g/></svg></center>\n",
       "        <script>\n",
       "        (function render_d3() {\n",
       "        var d3, dagreD3;\n",
       "        try { // requirejs is broken on external domains\n",
       "          d3 = require('d3');\n",
       "          dagreD3 = require('dagreD3');\n",
       "        } catch (e) {\n",
       "          // for google colab\n",
       "          if(typeof window.d3 !== \"undefined\" && typeof window.dagreD3 !== \"undefined\"){\n",
       "            d3 = window.d3;\n",
       "            dagreD3 = window.dagreD3;\n",
       "          } else { // not loaded yet, so wait and try again\n",
       "            setTimeout(render_d3, 50);\n",
       "            return;\n",
       "          }\n",
       "        }\n",
       "        //alert(\"loaded\");\n",
       "        var g = new dagreD3.graphlib.Graph().setGraph({ 'rankdir': 'LR' });\n",
       "        g.setNode(\"0\", { label: \"0 / [1.000 / 0.100]\" , shape: \"circle\" });\n",
       "g.node(\"0\").style = \"fill: #af8dc3\"; \n",
       "g.setNode(\"1\",{label:\"1 / 0.100\",shape:\"circle\"});\n",
       "g.node(\"1\").style = \"fill: #fc8d62\"; \n",
       "g.setNode(\"2\",{label:\"2 / 0.100\",shape:\"circle\"});\n",
       "g.node(\"2\").style = \"fill: #fc8d62\"; \n",
       "g.setEdge(\"0\",\"1\",{arrowhead:\"vee\",label:\"0 / 0.699\",\"style\": \"stroke: rgb(192, 192, 192); fill: none;\", \"labelStyle\": \"fill: rgb(192, 192, 192); stroke: rgb(192, 192, 192); \", \"arrowheadStyle\": \"fill: rgb(192, 192, 192); stroke: rgb(192, 192, 192);\"});\n",
       "g.setEdge(\"0\",\"2\",{arrowhead:\"vee\",label:\"1 / 0.201\",\"style\": \"stroke: rgb(192, 192, 192); fill: none;\", \"labelStyle\": \"fill: rgb(192, 192, 192); stroke: rgb(192, 192, 192); \", \"arrowheadStyle\": \"fill: rgb(192, 192, 192); stroke: rgb(192, 192, 192);\"});\n",
       "g.setEdge(\"1\",\"1\",{arrowhead:\"vee\",label:\"0 / 0.684\",\"style\": \"stroke: rgb(192, 192, 192); fill: none;\", \"labelStyle\": \"fill: rgb(192, 192, 192); stroke: rgb(192, 192, 192); \", \"arrowheadStyle\": \"fill: rgb(192, 192, 192); stroke: rgb(192, 192, 192);\"});\n",
       "g.setEdge(\"1\",\"2\",{arrowhead:\"vee\",label:\"1 / 0.216\",\"style\": \"stroke: rgb(192, 192, 192); fill: none;\", \"labelStyle\": \"fill: rgb(192, 192, 192); stroke: rgb(192, 192, 192); \", \"arrowheadStyle\": \"fill: rgb(192, 192, 192); stroke: rgb(192, 192, 192);\"});\n",
       "g.setEdge(\"2\",\"1\",{arrowhead:\"vee\",label:\"0 / 0.427\",\"style\": \"stroke: rgb(192, 192, 192); fill: none;\", \"labelStyle\": \"fill: rgb(192, 192, 192); stroke: rgb(192, 192, 192); \", \"arrowheadStyle\": \"fill: rgb(192, 192, 192); stroke: rgb(192, 192, 192);\"});\n",
       "g.setEdge(\"2\",\"2\",{arrowhead:\"vee\",label:\"1 / 0.473\",\"style\": \"stroke: rgb(192, 192, 192); fill: none;\", \"labelStyle\": \"fill: rgb(192, 192, 192); stroke: rgb(192, 192, 192); \", \"arrowheadStyle\": \"fill: rgb(192, 192, 192); stroke: rgb(192, 192, 192);\"});\n",
       "var svg = d3.select(\"#fst_6cf38c4f17ad4a4ebcac78e6c586b628\"); \n",
       "\n",
       "        var inner = svg.select(\"g\");\n",
       "\n",
       "        // Set up zoom support\n",
       "        var zoom = d3.zoom().scaleExtent([0.3, 5]).on(\"zoom\", function() {\n",
       "        inner.attr(\"transform\", d3.event.transform);\n",
       "        });\n",
       "        svg.call(zoom);\n",
       "\n",
       "        // Create the renderer\n",
       "        var render = new dagreD3.render();\n",
       "\n",
       "        // Run the renderer. This is what draws the final graph.\n",
       "        render(inner, g);\n",
       "\n",
       "        // Center the graph\n",
       "        var initialScale = 0.75;\n",
       "        svg.call(zoom.transform, d3.zoomIdentity.translate(\n",
       "            (svg.attr(\"width\")-g.graph().width*initialScale)/2,20).scale(initialScale));\n",
       "\n",
       "        svg.attr('height', g.graph().height * initialScale + 50);\n",
       "        })();\n",
       "\n",
       "        </script>\n",
       "        "
      ],
      "text/plain": [
       "PFSA(n_states=3, n_symbols=2)\n",
       "\n",
       "T[0]: \n",
       "[[0.         0.69905073 0.        ]\n",
       " [0.         0.68449943 0.        ]\n",
       " [0.         0.42738033 0.        ]]\n",
       "\n",
       "T[1]: \n",
       "[[0.         0.         0.20094927]\n",
       " [0.         0.         0.21550057]\n",
       " [0.         0.         0.47261967]]\n",
       "\n",
       "T: \n",
       "[[0.         0.69905073 0.20094927]\n",
       " [0.         0.68449943 0.21550057]\n",
       " [0.         0.42738033 0.47261967]]\n",
       "\n",
       "T*: \n",
       "[[ 1.          6.11871124  2.88128876]\n",
       " [-0.          7.09912358  2.90087642]\n",
       " [ 0.          5.75301277  4.24698723]]\n",
       "\n",
       "λ = [1. 0. 0.]\n",
       "\n",
       "ρ = [0.1 0.1 0.1]"
      ]
     },
     "execution_count": 3,
     "metadata": {},
     "output_type": "execute_result"
    }
   ],
   "source": [
    "A"
   ]
  },
  {
   "cell_type": "code",
   "execution_count": 10,
   "metadata": {},
   "outputs": [],
   "source": [
    "D = A.sample(10000)"
   ]
  },
  {
   "cell_type": "code",
   "execution_count": 5,
   "metadata": {},
   "outputs": [
    {
     "data": {
      "text/plain": [
       "True"
      ]
     },
     "execution_count": 5,
     "metadata": {},
     "output_type": "execute_result"
    }
   ],
   "source": [
    "A.is_probabilistic"
   ]
  },
  {
   "cell_type": "code",
   "execution_count": 6,
   "metadata": {},
   "outputs": [
    {
     "data": {
      "text/plain": [
       "12.340954227221298"
      ]
     },
     "execution_count": 6,
     "metadata": {},
     "output_type": "execute_result"
    }
   ],
   "source": [
    "A.entropy"
   ]
  },
  {
   "cell_type": "code",
   "execution_count": 7,
   "metadata": {},
   "outputs": [
    {
     "data": {
      "text/plain": [
       "45.76558069326644"
      ]
     },
     "execution_count": 7,
     "metadata": {},
     "output_type": "execute_result"
    }
   ],
   "source": [
    "A.local_entropy(m=10)"
   ]
  },
  {
   "cell_type": "code",
   "execution_count": null,
   "metadata": {},
   "outputs": [],
   "source": []
  }
 ],
 "metadata": {
  "kernelspec": {
   "display_name": "rayuela",
   "language": "python",
   "name": "python3"
  },
  "language_info": {
   "codemirror_mode": {
    "name": "ipython",
    "version": 3
   },
   "file_extension": ".py",
   "mimetype": "text/x-python",
   "name": "python",
   "nbconvert_exporter": "python",
   "pygments_lexer": "ipython3",
   "version": "3.10.13"
  }
 },
 "nbformat": 4,
 "nbformat_minor": 2
}
