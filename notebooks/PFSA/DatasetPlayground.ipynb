{
 "cells": [
  {
   "cell_type": "code",
   "execution_count": 1,
   "metadata": {},
   "outputs": [],
   "source": [
    "from itertools import product\n",
    "import random\n",
    "import json\n",
    "from math import ceil\n",
    "\n",
    "import numpy as np\n",
    "from tqdm import trange\n",
    "import seaborn as sns\n",
    "import matplotlib.pyplot as plt\n",
    "\n",
    "np.printoptions(precision=3)\n",
    "\n",
    "from fsa_generator import random_dpfsa, random_pfsa, geometric_sum_pfsa, random_ngram\n",
    "from fsa import PFSA"
   ]
  },
  {
   "cell_type": "code",
   "execution_count": 2,
   "metadata": {},
   "outputs": [],
   "source": [
    "A = random_dpfsa(\n",
    "    4,\n",
    "    4,\n",
    "    conditions=[lambda A: 10 < A.mean_length < 80],\n",
    "    mean_length=20,\n",
    "    topology_seed=2,\n",
    "    weight_seed=2,\n",
    ")"
   ]
  },
  {
   "cell_type": "code",
   "execution_count": 3,
   "metadata": {},
   "outputs": [
    {
     "data": {
      "text/plain": [
       "np.float64(1.5371239502474114)"
      ]
     },
     "execution_count": 3,
     "metadata": {},
     "output_type": "execute_result"
    }
   ],
   "source": [
    "A.next_symbol_entropy"
   ]
  },
  {
   "cell_type": "code",
   "execution_count": 4,
   "metadata": {},
   "outputs": [
    {
     "data": {
      "text/plain": [
       "np.float64(32.27960295519563)"
      ]
     },
     "execution_count": 4,
     "metadata": {},
     "output_type": "execute_result"
    }
   ],
   "source": [
    "A.entropy"
   ]
  },
  {
   "cell_type": "code",
   "execution_count": 5,
   "metadata": {},
   "outputs": [
    {
     "data": {
      "text/html": [
       "\n",
       "       <script>\n",
       "       try {\n",
       "       require.config({\n",
       "       paths: {\n",
       "       \"d3\": \"https://cdnjs.cloudflare.com/ajax/libs/d3/4.13.0/d3\",\n",
       "       \"dagreD3\": \"https://cdnjs.cloudflare.com/ajax/libs/dagre-d3/0.6.1/dagre-d3.min\"\n",
       "       }\n",
       "       });\n",
       "       } catch {\n",
       "       [\"https://cdnjs.cloudflare.com/ajax/libs/d3/4.13.0/d3.js\",\n",
       "       \"https://cdnjs.cloudflare.com/ajax/libs/dagre-d3/0.6.1/dagre-d3.min.js\"].forEach(\n",
       "            function (src) {\n",
       "            var tag = document.createElement('script');\n",
       "            tag.src = src;\n",
       "            document.body.appendChild(tag);\n",
       "            }\n",
       "        )\n",
       "        }\n",
       "        try {\n",
       "        requirejs(['d3', 'dagreD3'], function() {});\n",
       "        } catch (e) {}\n",
       "        try {\n",
       "        require(['d3', 'dagreD3'], function() {});\n",
       "        } catch (e) {}\n",
       "        </script>\n",
       "        <style>\n",
       "        .node rect,\n",
       "        .node circle,\n",
       "        .node ellipse {\n",
       "        stroke: #333;\n",
       "        fill: #fff;\n",
       "        stroke-width: 1px;\n",
       "        }\n",
       "\n",
       "        .edgePath path {\n",
       "        stroke: #333;\n",
       "        fill: #333;\n",
       "        stroke-width: 1.5px;\n",
       "        }\n",
       "        </style>\n",
       "        <center><svg width=\"850\" height=\"600\" id=\"fst_7b798a00c84e44c098d14717eb5d51c7\"><g/></svg></center>\n",
       "        <script>\n",
       "        (function render_d3() {\n",
       "        var d3, dagreD3;\n",
       "        try { // requirejs is broken on external domains\n",
       "          d3 = require('d3');\n",
       "          dagreD3 = require('dagreD3');\n",
       "        } catch (e) {\n",
       "          // for google colab\n",
       "          if(typeof window.d3 !== \"undefined\" && typeof window.dagreD3 !== \"undefined\"){\n",
       "            d3 = window.d3;\n",
       "            dagreD3 = window.dagreD3;\n",
       "          } else { // not loaded yet, so wait and try again\n",
       "            setTimeout(render_d3, 50);\n",
       "            return;\n",
       "          }\n",
       "        }\n",
       "        //alert(\"loaded\");\n",
       "        var g = new dagreD3.graphlib.Graph().setGraph({ 'rankdir': 'LR' });\n",
       "        g.setNode(\"3\", { label: \"3 / [1.000 / 0.048]\" , shape: \"circle\" });\n",
       "g.node(\"3\").style = \"fill: #af8dc3\"; \n",
       "g.setNode(\"0\",{label:\"0 / 0.048\",shape:\"circle\"});\n",
       "g.node(\"0\").style = \"fill: #fc8d62\"; \n",
       "g.setNode(\"1\",{label:\"1 / 0.048\",shape:\"circle\"});\n",
       "g.node(\"1\").style = \"fill: #fc8d62\"; \n",
       "g.setNode(\"2\",{label:\"2 / 0.048\",shape:\"circle\"});\n",
       "g.node(\"2\").style = \"fill: #fc8d62\"; \n",
       "g.setEdge(\"0\",\"1\",{arrowhead:\"vee\",label:\"0 / 0.096\",\"style\": \"stroke: rgb(192, 192, 192); fill: none;\", \"labelStyle\": \"fill: rgb(192, 192, 192); stroke: rgb(192, 192, 192); \", \"arrowheadStyle\": \"fill: rgb(192, 192, 192); stroke: rgb(192, 192, 192);\"});\n",
       "g.setEdge(\"0\",\"0\",{arrowhead:\"vee\",label:\"1 / 0.007\",\"style\": \"stroke: rgb(192, 192, 192); fill: none;\", \"labelStyle\": \"fill: rgb(192, 192, 192); stroke: rgb(192, 192, 192); \", \"arrowheadStyle\": \"fill: rgb(192, 192, 192); stroke: rgb(192, 192, 192);\"});\n",
       "g.setEdge(\"0\",\"3\",{arrowhead:\"vee\",label:\"2 / 0.358\",\"style\": \"stroke: rgb(192, 192, 192); fill: none;\", \"labelStyle\": \"fill: rgb(192, 192, 192); stroke: rgb(192, 192, 192); \", \"arrowheadStyle\": \"fill: rgb(192, 192, 192); stroke: rgb(192, 192, 192);\"});\n",
       "g.setEdge(\"0\",\"2\",{arrowhead:\"vee\",label:\"3 / 0.491\",\"style\": \"stroke: rgb(192, 192, 192); fill: none;\", \"labelStyle\": \"fill: rgb(192, 192, 192); stroke: rgb(192, 192, 192); \", \"arrowheadStyle\": \"fill: rgb(192, 192, 192); stroke: rgb(192, 192, 192);\"});\n",
       "g.setEdge(\"1\",\"1\",{arrowhead:\"vee\",label:\"0 / 0.006\\n2 / 0.006\",\"style\": \"stroke: rgb(192, 192, 192); fill: none;\", \"labelStyle\": \"fill: rgb(192, 192, 192); stroke: rgb(192, 192, 192); \", \"arrowheadStyle\": \"fill: rgb(192, 192, 192); stroke: rgb(192, 192, 192);\"});\n",
       "g.setEdge(\"1\",\"2\",{arrowhead:\"vee\",label:\"1 / 0.827\",\"style\": \"stroke: rgb(192, 192, 192); fill: none;\", \"labelStyle\": \"fill: rgb(192, 192, 192); stroke: rgb(192, 192, 192); \", \"arrowheadStyle\": \"fill: rgb(192, 192, 192); stroke: rgb(192, 192, 192);\"});\n",
       "g.setEdge(\"1\",\"0\",{arrowhead:\"vee\",label:\"3 / 0.113\",\"style\": \"stroke: rgb(192, 192, 192); fill: none;\", \"labelStyle\": \"fill: rgb(192, 192, 192); stroke: rgb(192, 192, 192); \", \"arrowheadStyle\": \"fill: rgb(192, 192, 192); stroke: rgb(192, 192, 192);\"});\n",
       "g.setEdge(\"2\",\"2\",{arrowhead:\"vee\",label:\"0 / 0.332\\n2 / 0.006\\n3 / 0.236\",\"style\": \"stroke: rgb(192, 192, 192); fill: none;\", \"labelStyle\": \"fill: rgb(192, 192, 192); stroke: rgb(192, 192, 192); \", \"arrowheadStyle\": \"fill: rgb(192, 192, 192); stroke: rgb(192, 192, 192);\"});\n",
       "g.setEdge(\"2\",\"1\",{arrowhead:\"vee\",label:\"1 / 0.377\",\"style\": \"stroke: rgb(192, 192, 192); fill: none;\", \"labelStyle\": \"fill: rgb(192, 192, 192); stroke: rgb(192, 192, 192); \", \"arrowheadStyle\": \"fill: rgb(192, 192, 192); stroke: rgb(192, 192, 192);\"});\n",
       "g.setEdge(\"3\",\"3\",{arrowhead:\"vee\",label:\"0 / 0.002\",\"style\": \"stroke: rgb(192, 192, 192); fill: none;\", \"labelStyle\": \"fill: rgb(192, 192, 192); stroke: rgb(192, 192, 192); \", \"arrowheadStyle\": \"fill: rgb(192, 192, 192); stroke: rgb(192, 192, 192);\"});\n",
       "g.setEdge(\"3\",\"1\",{arrowhead:\"vee\",label:\"1 / 0.237\",\"style\": \"stroke: rgb(192, 192, 192); fill: none;\", \"labelStyle\": \"fill: rgb(192, 192, 192); stroke: rgb(192, 192, 192); \", \"arrowheadStyle\": \"fill: rgb(192, 192, 192); stroke: rgb(192, 192, 192);\"});\n",
       "g.setEdge(\"3\",\"0\",{arrowhead:\"vee\",label:\"2 / 0.099\",\"style\": \"stroke: rgb(192, 192, 192); fill: none;\", \"labelStyle\": \"fill: rgb(192, 192, 192); stroke: rgb(192, 192, 192); \", \"arrowheadStyle\": \"fill: rgb(192, 192, 192); stroke: rgb(192, 192, 192);\"});\n",
       "g.setEdge(\"3\",\"2\",{arrowhead:\"vee\",label:\"3 / 0.614\",\"style\": \"stroke: rgb(192, 192, 192); fill: none;\", \"labelStyle\": \"fill: rgb(192, 192, 192); stroke: rgb(192, 192, 192); \", \"arrowheadStyle\": \"fill: rgb(192, 192, 192); stroke: rgb(192, 192, 192);\"});\n",
       "var svg = d3.select(\"#fst_7b798a00c84e44c098d14717eb5d51c7\"); \n",
       "\n",
       "        var inner = svg.select(\"g\");\n",
       "\n",
       "        // Set up zoom support\n",
       "        var zoom = d3.zoom().scaleExtent([0.3, 5]).on(\"zoom\", function() {\n",
       "        inner.attr(\"transform\", d3.event.transform);\n",
       "        });\n",
       "        svg.call(zoom);\n",
       "\n",
       "        // Create the renderer\n",
       "        var render = new dagreD3.render();\n",
       "\n",
       "        // Run the renderer. This is what draws the final graph.\n",
       "        render(inner, g);\n",
       "\n",
       "        // Center the graph\n",
       "        var initialScale = 0.75;\n",
       "        svg.call(zoom.transform, d3.zoomIdentity.translate(\n",
       "            (svg.attr(\"width\")-g.graph().width*initialScale)/2,20).scale(initialScale));\n",
       "\n",
       "        svg.attr('height', g.graph().height * initialScale + 50);\n",
       "        })();\n",
       "\n",
       "        </script>\n",
       "        "
      ],
      "text/plain": [
       "PFSA(n_states=4, n_symbols=4)\n",
       "\n",
       "T[0]: \n",
       "[[0.         0.09577107 0.         0.        ]\n",
       " [0.         0.00612755 0.         0.        ]\n",
       " [0.         0.         0.3323994  0.        ]\n",
       " [0.         0.         0.         0.00219441]]\n",
       "\n",
       "T[1]: \n",
       "[[0.00684758 0.         0.         0.        ]\n",
       " [0.         0.         0.82708056 0.        ]\n",
       " [0.         0.3772146  0.         0.        ]\n",
       " [0.         0.23664874 0.         0.        ]]\n",
       "\n",
       "T[2]: \n",
       "[[0.         0.         0.         0.35845658]\n",
       " [0.         0.00612755 0.         0.        ]\n",
       " [0.         0.         0.00644622 0.        ]\n",
       " [0.09924419 0.         0.         0.        ]]\n",
       "\n",
       "T[3]: \n",
       "[[0.         0.         0.49130572 0.        ]\n",
       " [0.11304529 0.         0.         0.        ]\n",
       " [0.         0.         0.23632073 0.        ]\n",
       " [0.         0.         0.61429361 0.        ]]\n",
       "\n",
       "T: \n",
       "[[0.00684758 0.09577107 0.49130572 0.35845658]\n",
       " [0.11304529 0.0122551  0.82708056 0.        ]\n",
       " [0.         0.3772146  0.57516635 0.        ]\n",
       " [0.09924419 0.23664874 0.61429361 0.00219441]]\n",
       "\n",
       "T*: \n",
       "[[ 1.68129044  5.39460492 13.3201096   0.60399503]\n",
       " [ 0.75013391  6.35367303 13.62671128  0.26948179]\n",
       " [ 0.66605238  5.64149814 14.45317356  0.23927593]\n",
       " [ 0.75518546  5.5166139  13.45470487  1.27349577]]\n",
       "\n",
       "λ = [0. 0. 0. 1.]\n",
       "\n",
       "ρ = [0.04761905 0.04761905 0.04761905 0.04761905]"
      ]
     },
     "execution_count": 5,
     "metadata": {},
     "output_type": "execute_result"
    }
   ],
   "source": [
    "A"
   ]
  },
  {
   "cell_type": "code",
   "execution_count": 6,
   "metadata": {},
   "outputs": [
    {
     "data": {
      "text/plain": [
       "[np.float64(-0.0),\n",
       " np.float64(0.5499431425727273),\n",
       " np.float64(0.3804521076694948),\n",
       " np.float64(0.20451788612066843),\n",
       " np.float64(0.09774757593643048),\n",
       " np.float64(0.04379782666779828),\n",
       " np.float64(0.01883954291032298),\n",
       " np.float64(0.007878684440655611),\n",
       " np.float64(0.00322761859156305),\n",
       " np.float64(0.0013015812566359375),\n",
       " np.float64(0.0005184004043148713),\n",
       " np.float64(0.0002044064387416885),\n",
       " np.float64(7.993181743978356e-05),\n",
       " np.float64(3.1039759608144484e-05),\n",
       " np.float64(1.1982283413000877e-05),\n",
       " np.float64(4.6019231943738685e-06),\n",
       " np.float64(1.7595622855887603e-06),\n",
       " np.float64(6.701470938196923e-07),\n",
       " np.float64(2.543491422393284e-07)]"
      ]
     },
     "execution_count": 6,
     "metadata": {},
     "output_type": "execute_result"
    }
   ],
   "source": [
    "[A.MI(t) for t in range(1, 20)]"
   ]
  },
  {
   "cell_type": "code",
   "execution_count": 7,
   "metadata": {},
   "outputs": [
    {
     "data": {
      "text/plain": [
       "[0,\n",
       " np.float64(0.0),\n",
       " np.float64(0.24374221817070535),\n",
       " np.float64(0.3373479798164765),\n",
       " np.float64(0.36713219243677875),\n",
       " np.float64(0.37575607265753574),\n",
       " np.float64(0.37811727643229215),\n",
       " np.float64(0.3787399351770192),\n",
       " np.float64(0.37889977039796696),\n",
       " np.float64(0.3789399816265637),\n",
       " np.float64(0.3789499416990701),\n",
       " np.float64(0.37895237846220475),\n",
       " np.float64(0.37895296867843126),\n",
       " np.float64(0.3789531104566132),\n",
       " np.float64(0.37895314427734184),\n",
       " np.float64(0.3789531522974416),\n",
       " np.float64(0.3789531541895908),\n",
       " np.float64(0.37895315463401386),\n",
       " np.float64(0.378953154737991)]"
      ]
     },
     "execution_count": 7,
     "metadata": {},
     "output_type": "execute_result"
    }
   ],
   "source": [
    "[A.XXX(T) for T in range(1, 20)]"
   ]
  },
  {
   "cell_type": "code",
   "execution_count": 8,
   "metadata": {},
   "outputs": [
    {
     "data": {
      "text/plain": [
       "[np.float64(0.9523809523809526),\n",
       " np.float64(0.443213487544254),\n",
       " np.float64(0.24603822599160918),\n",
       " np.float64(0.14563133418428312),\n",
       " np.float64(0.08822602645783728),\n",
       " np.float64(0.053911437036953024),\n",
       " np.float64(0.033050629077941825),\n",
       " np.float64(0.020287044385605205),\n",
       " np.float64(0.012458482145900077),\n",
       " np.float64(0.007652286367499651),\n",
       " np.float64(0.004700542504187559),\n",
       " np.float64(0.0028874639672022335),\n",
       " np.float64(0.0017737390000073943),\n",
       " np.float64(0.0010895937681865604),\n",
       " np.float64(0.0006693298317653685),\n",
       " np.float64(0.0004111648811149932),\n",
       " np.float64(0.00025257592066981887),\n",
       " np.float64(0.00015515576428295496),\n",
       " np.float64(9.531119178404994e-05)]"
      ]
     },
     "execution_count": 8,
     "metadata": {},
     "output_type": "execute_result"
    }
   ],
   "source": [
    "[A.length_p(t) for t in range(1, 20)]"
   ]
  },
  {
   "cell_type": "code",
   "execution_count": 9,
   "metadata": {},
   "outputs": [
    {
     "data": {
      "text/plain": [
       "np.float64(19.999999999999993)"
      ]
     },
     "execution_count": 9,
     "metadata": {},
     "output_type": "execute_result"
    }
   ],
   "source": [
    "A.mean_length"
   ]
  },
  {
   "cell_type": "code",
   "execution_count": 10,
   "metadata": {},
   "outputs": [
    {
     "data": {
      "text/plain": [
       "np.float64(1.5371239502474114)"
      ]
     },
     "execution_count": 10,
     "metadata": {},
     "output_type": "execute_result"
    }
   ],
   "source": [
    "A.entropy / (A.mean_length + 1)"
   ]
  },
  {
   "cell_type": "code",
   "execution_count": 11,
   "metadata": {},
   "outputs": [
    {
     "name": "stderr",
     "output_type": "stream",
     "text": [
      "Computing 9-local entropy: 100%|██████████| 65536/65536 [00:02<00:00, 27909.45it/s]\n"
     ]
    },
    {
     "data": {
      "text/plain": [
       "np.float64(1.5480773055477286)"
      ]
     },
     "execution_count": 11,
     "metadata": {},
     "output_type": "execute_result"
    }
   ],
   "source": [
    "A.local_entropy(m=9)"
   ]
  },
  {
   "cell_type": "code",
   "execution_count": null,
   "metadata": {},
   "outputs": [],
   "source": []
  },
  {
   "cell_type": "code",
   "execution_count": 12,
   "metadata": {},
   "outputs": [
    {
     "data": {
      "text/plain": [
       "array([0.02619491, 0.        , 0.        , 0.        ])"
      ]
     },
     "execution_count": 12,
     "metadata": {},
     "output_type": "execute_result"
    }
   ],
   "source": [
    "A.state_distribution(\"313\")"
   ]
  },
  {
   "cell_type": "code",
   "execution_count": 13,
   "metadata": {},
   "outputs": [
    {
     "data": {
      "text/plain": [
       "np.float64(0.02619491261235785)"
      ]
     },
     "execution_count": 13,
     "metadata": {},
     "output_type": "execute_result"
    }
   ],
   "source": [
    "A.prefix_next_symbol_probabilities(\"313\").sum()"
   ]
  },
  {
   "cell_type": "code",
   "execution_count": 14,
   "metadata": {},
   "outputs": [
    {
     "data": {
      "text/plain": [
       "np.float64(0.026194912612357846)"
      ]
     },
     "execution_count": 14,
     "metadata": {},
     "output_type": "execute_result"
    }
   ],
   "source": [
    "A.prefix_probability(\"313\")"
   ]
  },
  {
   "cell_type": "code",
   "execution_count": 15,
   "metadata": {},
   "outputs": [
    {
     "data": {
      "text/plain": [
       "np.float64(0.0012473767910646592)"
      ]
     },
     "execution_count": 15,
     "metadata": {},
     "output_type": "execute_result"
    }
   ],
   "source": [
    "A(\"313\")"
   ]
  },
  {
   "cell_type": "code",
   "execution_count": 16,
   "metadata": {},
   "outputs": [
    {
     "data": {
      "text/plain": [
       "array([0., 1., 0., 0.])"
      ]
     },
     "execution_count": 16,
     "metadata": {},
     "output_type": "execute_result"
    }
   ],
   "source": [
    "A.state_distribution(\"010\") / A.state_distribution(\"010\").sum()"
   ]
  },
  {
   "cell_type": "code",
   "execution_count": 17,
   "metadata": {},
   "outputs": [],
   "source": [
    "m_max = 6"
   ]
  },
  {
   "cell_type": "code",
   "execution_count": 18,
   "metadata": {},
   "outputs": [],
   "source": [
    "Bs = [A.bos_model(b=b) for b in range(1, m_max + 1)]"
   ]
  },
  {
   "cell_type": "code",
   "execution_count": 19,
   "metadata": {},
   "outputs": [
    {
     "data": {
      "text/plain": [
       "np.float64(1.5371239502474114)"
      ]
     },
     "execution_count": 19,
     "metadata": {},
     "output_type": "execute_result"
    }
   ],
   "source": [
    "A.next_symbol_entropy"
   ]
  },
  {
   "cell_type": "code",
   "execution_count": 20,
   "metadata": {},
   "outputs": [
    {
     "name": "stderr",
     "output_type": "stream",
     "text": [
      "Computing 2-local entropy: 100%|██████████| 4/4 [00:00<00:00, 897.47it/s]\n",
      "Computing 3-local entropy: 100%|██████████| 16/16 [00:00<00:00, 2206.29it/s]\n",
      "Computing 4-local entropy: 100%|██████████| 64/64 [00:00<00:00, 16044.20it/s]\n",
      "Computing 5-local entropy: 100%|██████████| 256/256 [00:00<00:00, 18194.70it/s]\n",
      "Computing 6-local entropy: 100%|██████████| 1024/1024 [00:00<00:00, 15069.64it/s]\n"
     ]
    },
    {
     "data": {
      "text/plain": [
       "[np.float64(1.7182724187271676),\n",
       " np.float64(1.6447970962074039),\n",
       " np.float64(1.6122860579188734),\n",
       " np.float64(1.5851198607414736),\n",
       " np.float64(1.570875242381606)]"
      ]
     },
     "execution_count": 20,
     "metadata": {},
     "output_type": "execute_result"
    }
   ],
   "source": [
    "[A.local_entropy(m=m) for m in range(2, m_max + 1)]"
   ]
  },
  {
   "cell_type": "code",
   "execution_count": 21,
   "metadata": {},
   "outputs": [
    {
     "name": "stderr",
     "output_type": "stream",
     "text": [
      "Computing 2-local entropy: 100%|██████████| 5/5 [00:00<00:00, 9485.08it/s]\n",
      "Computing 3-local entropy: 100%|██████████| 25/25 [00:00<00:00, 5190.20it/s]\n",
      "Computing 4-local entropy: 100%|██████████| 125/125 [00:00<00:00, 11691.11it/s]\n",
      "Computing 5-local entropy: 100%|██████████| 625/625 [00:00<00:00, 8642.89it/s]\n",
      "Computing 6-local entropy: 100%|██████████| 3125/3125 [00:00<00:00, 10254.24it/s]\n"
     ]
    },
    {
     "data": {
      "text/plain": [
       "[np.float64(1.7135775636340727),\n",
       " np.float64(1.6427084567494965),\n",
       " np.float64(1.608226745030354),\n",
       " np.float64(1.5831962276218412),\n",
       " np.float64(1.5696517193276447)]"
      ]
     },
     "execution_count": 21,
     "metadata": {},
     "output_type": "execute_result"
    }
   ],
   "source": [
    "[Bs[m - 2].local_entropy(m=m) for m in range(2, m_max + 1)]"
   ]
  },
  {
   "cell_type": "code",
   "execution_count": 22,
   "metadata": {},
   "outputs": [
    {
     "name": "stderr",
     "output_type": "stream",
     "text": [
      "Computing 4-local entropy: 100%|██████████| 64/64 [00:00<00:00, 11417.93it/s]\n"
     ]
    },
    {
     "data": {
      "text/plain": [
       "np.float64(1.6122860579188734)"
      ]
     },
     "execution_count": 22,
     "metadata": {},
     "output_type": "execute_result"
    }
   ],
   "source": [
    "A.local_entropy(m=4)"
   ]
  },
  {
   "cell_type": "code",
   "execution_count": 23,
   "metadata": {},
   "outputs": [
    {
     "data": {
      "text/plain": [
       "np.float64(32.27960295519563)"
      ]
     },
     "execution_count": 23,
     "metadata": {},
     "output_type": "execute_result"
    }
   ],
   "source": [
    "A.entropy"
   ]
  },
  {
   "cell_type": "code",
   "execution_count": null,
   "metadata": {},
   "outputs": [
    {
     "name": "stderr",
     "output_type": "stream",
     "text": [
      "Computing 3-local entropy: 100%|██████████| 100/100 [00:00<00:00, 1288.11it/s]\n",
      "Computing 3-local entropy: 100%|██████████| 100/100 [00:00<00:00, 10162.59it/s]\n",
      "Computing 3-local entropy: 100%|██████████| 100/100 [00:00<00:00, 9009.74it/s]\n",
      "Computing 3-local entropy: 100%|██████████| 100/100 [00:00<00:00, 8714.71it/s]\n",
      "Computing 3-local entropy: 100%|██████████| 100/100 [00:00<00:00, 8676.67it/s]\n",
      "Computing 3-local entropy: 100%|██████████| 100/100 [00:00<00:00, 7699.36it/s]\n",
      "Computing 3-local entropy: 100%|██████████| 100/100 [00:00<00:00, 6303.62it/s]\n",
      "Computing 3-local entropy: 100%|██████████| 100/100 [00:00<00:00, 11927.50it/s]\n",
      "Computing 3-local entropy: 100%|██████████| 100/100 [00:00<00:00, 12186.37it/s]\n",
      "Computing 3-local entropy: 100%|██████████| 100/100 [00:00<00:00, 11413.07it/s]\n",
      "Computing 3-local entropy: 100%|██████████| 100/100 [00:00<00:00, 11613.10it/s]\n",
      "Computing 3-local entropy: 100%|██████████| 100/100 [00:00<00:00, 8555.09it/s]\n",
      "Computing 3-local entropy: 100%|██████████| 100/100 [00:00<00:00, 11899.07it/s]\n",
      "Computing 3-local entropy: 100%|██████████| 100/100 [00:00<00:00, 11043.75it/s]\n",
      "Computing 3-local entropy: 100%|██████████| 100/100 [00:00<00:00, 10186.53it/s]\n",
      "Computing 3-local entropy: 100%|██████████| 100/100 [00:00<00:00, 11502.27it/s]\n",
      "Computing 3-local entropy: 100%|██████████| 100/100 [00:00<00:00, 10328.25it/s]\n",
      "Computing 3-local entropy: 100%|██████████| 100/100 [00:00<00:00, 11883.56it/s]\n",
      "Computing 3-local entropy: 100%|██████████| 100/100 [00:00<00:00, 10897.98it/s]\n",
      "Computing 3-local entropy: 100%|██████████| 100/100 [00:00<00:00, 11987.49it/s]\n",
      "Computing 3-local entropy: 100%|██████████| 100/100 [00:00<00:00, 12090.12it/s]\n",
      "Computing 3-local entropy: 100%|██████████| 100/100 [00:00<00:00, 9396.47it/s]\n",
      "Computing 3-local entropy: 100%|██████████| 100/100 [00:00<00:00, 9945.24it/s]\n",
      "Computing 3-local entropy: 100%|██████████| 100/100 [00:00<00:00, 10979.57it/s]\n",
      "Computing 3-local entropy: 100%|██████████| 100/100 [00:00<00:00, 10689.67it/s]\n",
      "Computing 3-local entropy: 100%|██████████| 100/100 [00:00<00:00, 11357.14it/s]\n",
      "Computing 3-local entropy: 100%|██████████| 100/100 [00:00<00:00, 11943.12it/s]\n",
      "Computing 3-local entropy: 100%|██████████| 100/100 [00:00<00:00, 11205.43it/s]\n",
      "Computing 3-local entropy: 100%|██████████| 100/100 [00:00<00:00, 9938.40it/s]\n",
      "Computing 3-local entropy: 100%|██████████| 100/100 [00:00<00:00, 10324.19it/s]\n",
      "Computing 3-local entropy: 100%|██████████| 100/100 [00:00<00:00, 11609.89it/s]\n",
      "Computing 3-local entropy: 100%|██████████| 100/100 [00:00<00:00, 9758.96it/s]\n",
      "Computing 3-local entropy: 100%|██████████| 100/100 [00:00<00:00, 11233.04it/s]\n",
      "Computing 3-local entropy: 100%|██████████| 100/100 [00:00<00:00, 10545.08it/s]\n",
      "Computing 3-local entropy: 100%|██████████| 100/100 [00:00<00:00, 1948.21it/s]\n",
      "Computing 3-local entropy: 100%|██████████| 100/100 [00:00<00:00, 5588.16it/s]\n",
      "Computing 3-local entropy: 100%|██████████| 100/100 [00:00<00:00, 6084.17it/s]\n",
      "Computing 3-local entropy: 100%|██████████| 100/100 [00:00<00:00, 6772.65it/s]\n",
      "Computing 3-local entropy: 100%|██████████| 100/100 [00:00<00:00, 6352.50it/s]\n",
      "Computing 3-local entropy: 100%|██████████| 100/100 [00:00<00:00, 5274.46it/s]\n",
      "Computing 3-local entropy: 100%|██████████| 100/100 [00:00<00:00, 7327.58it/s]\n",
      "Computing 3-local entropy: 100%|██████████| 100/100 [00:00<00:00, 8630.61it/s]\n",
      "Computing 3-local entropy: 100%|██████████| 100/100 [00:00<00:00, 10862.41it/s]\n",
      "Computing 3-local entropy: 100%|██████████| 100/100 [00:00<00:00, 12343.81it/s]\n",
      "Computing 3-local entropy: 100%|██████████| 100/100 [00:00<00:00, 11783.74it/s]\n",
      "Computing 3-local entropy: 100%|██████████| 100/100 [00:00<00:00, 11974.49it/s]\n",
      "Computing 3-local entropy: 100%|██████████| 100/100 [00:00<00:00, 12359.82it/s]\n",
      "Computing 3-local entropy: 100%|██████████| 100/100 [00:00<00:00, 12151.06it/s]\n",
      "Computing 3-local entropy: 100%|██████████| 100/100 [00:00<00:00, 11782.41it/s]\n",
      "Computing 3-local entropy: 100%|██████████| 100/100 [00:00<00:00, 12476.73it/s]\n",
      "Computing 3-local entropy: 100%|██████████| 100/100 [00:00<00:00, 11784.07it/s]\n",
      "Computing 3-local entropy: 100%|██████████| 100/100 [00:00<00:00, 12077.24it/s]\n",
      "Computing 3-local entropy: 100%|██████████| 100/100 [00:00<00:00, 12205.52it/s]\n",
      "Computing 3-local entropy: 100%|██████████| 100/100 [00:00<00:00, 11075.82it/s]\n",
      "Computing 3-local entropy: 100%|██████████| 100/100 [00:00<00:00, 11442.96it/s]\n",
      "Computing 3-local entropy: 100%|██████████| 100/100 [00:00<00:00, 12409.92it/s]\n",
      "Computing 3-local entropy: 100%|██████████| 100/100 [00:00<00:00, 12140.51it/s]\n",
      "Computing 3-local entropy: 100%|██████████| 100/100 [00:00<00:00, 12131.73it/s]\n",
      "Computing 3-local entropy: 100%|██████████| 100/100 [00:00<00:00, 11873.81it/s]\n",
      "Computing 3-local entropy: 100%|██████████| 100/100 [00:00<00:00, 12428.67it/s]\n",
      "Computing 3-local entropy: 100%|██████████| 100/100 [00:00<00:00, 12500.16it/s]\n",
      "Computing 3-local entropy: 100%|██████████| 100/100 [00:00<00:00, 12204.10it/s]\n",
      "Computing 3-local entropy: 100%|██████████| 100/100 [00:00<00:00, 12196.29it/s]\n",
      "Computing 3-local entropy: 100%|██████████| 100/100 [00:00<00:00, 11927.50it/s]\n",
      "Computing 3-local entropy: 100%|██████████| 100/100 [00:00<00:00, 11855.35it/s]\n",
      "Computing 3-local entropy: 100%|██████████| 100/100 [00:00<00:00, 11896.37it/s]\n",
      "Computing 3-local entropy: 100%|██████████| 100/100 [00:00<00:00, 12071.33it/s]\n",
      "Computing 3-local entropy: 100%|██████████| 100/100 [00:00<00:00, 8084.78it/s]\n",
      "Computing 3-local entropy: 100%|██████████| 100/100 [00:00<00:00, 10587.67it/s]\n",
      "Computing 3-local entropy: 100%|██████████| 100/100 [00:00<00:00, 10021.27it/s]\n",
      "Computing 3-local entropy: 100%|██████████| 100/100 [00:00<00:00, 7108.15it/s]\n",
      "Computing 3-local entropy: 100%|██████████| 100/100 [00:00<00:00, 9368.77it/s]\n",
      "Computing 3-local entropy: 100%|██████████| 100/100 [00:00<00:00, 7259.60it/s]\n",
      "Computing 3-local entropy: 100%|██████████| 100/100 [00:00<00:00, 7613.13it/s]\n",
      "Computing 3-local entropy: 100%|██████████| 100/100 [00:00<00:00, 7113.33it/s]\n",
      "Computing 3-local entropy: 100%|██████████| 100/100 [00:00<00:00, 6821.34it/s]\n",
      "Computing 3-local entropy: 100%|██████████| 100/100 [00:00<00:00, 5904.98it/s]\n",
      "Computing 3-local entropy: 100%|██████████| 100/100 [00:00<00:00, 5375.18it/s]\n",
      "Computing 3-local entropy: 100%|██████████| 100/100 [00:00<00:00, 6685.53it/s]\n",
      "Computing 3-local entropy: 100%|██████████| 100/100 [00:00<00:00, 2014.59it/s]\n",
      "Computing 3-local entropy: 100%|██████████| 100/100 [00:00<00:00, 11044.91it/s]\n",
      "Computing 3-local entropy: 100%|██████████| 100/100 [00:00<00:00, 10764.29it/s]\n",
      "Computing 3-local entropy: 100%|██████████| 100/100 [00:00<00:00, 11410.59it/s]\n",
      "Computing 3-local entropy: 100%|██████████| 100/100 [00:00<00:00, 12220.10it/s]\n",
      "Computing 3-local entropy: 100%|██████████| 100/100 [00:00<00:00, 12167.28it/s]\n",
      "Computing 3-local entropy: 100%|██████████| 100/100 [00:00<00:00, 11676.79it/s]\n",
      "Computing 3-local entropy: 100%|██████████| 100/100 [00:00<00:00, 10849.49it/s]\n",
      "Computing 3-local entropy: 100%|██████████| 100/100 [00:00<00:00, 11548.19it/s]\n",
      "Computing 3-local entropy: 100%|██████████| 100/100 [00:00<00:00, 10793.09it/s]\n",
      "Computing 3-local entropy: 100%|██████████| 100/100 [00:00<00:00, 11713.97it/s]\n",
      "Computing 3-local entropy: 100%|██████████| 100/100 [00:00<00:00, 12327.49it/s]\n",
      "Computing 3-local entropy: 100%|██████████| 100/100 [00:00<00:00, 12106.52it/s]\n",
      "Computing 3-local entropy: 100%|██████████| 100/100 [00:00<00:00, 11749.41it/s]\n",
      "Computing 3-local entropy: 100%|██████████| 100/100 [00:00<00:00, 11609.24it/s]\n",
      "Computing 3-local entropy: 100%|██████████| 100/100 [00:00<00:00, 11357.44it/s]\n",
      "Computing 3-local entropy: 100%|██████████| 100/100 [00:00<00:00, 12051.21it/s]\n",
      "Computing 3-local entropy: 100%|██████████| 100/100 [00:00<00:00, 10361.42it/s]\n",
      "Computing 3-local entropy: 100%|██████████| 100/100 [00:00<00:00, 10793.09it/s]\n",
      "Computing 3-local entropy: 100%|██████████| 100/100 [00:00<00:00, 10644.09it/s]\n",
      "Computing 3-local entropy: 100%|██████████| 100/100 [00:00<00:00, 11054.51it/s]\n",
      "Computing 3-local entropy: 100%|██████████| 100/100 [00:00<00:00, 11955.03it/s]\n",
      "Computing 3-local entropy: 100%|██████████| 100/100 [00:00<00:00, 11957.42it/s]\n",
      "Computing 3-local entropy: 100%|██████████| 100/100 [00:00<00:00, 12210.14it/s]\n",
      "Computing 3-local entropy: 100%|██████████| 100/100 [00:00<00:00, 10860.16it/s]\n",
      "Computing 3-local entropy: 100%|██████████| 100/100 [00:00<00:00, 12437.89it/s]\n",
      "Computing 3-local entropy: 100%|██████████| 100/100 [00:00<00:00, 12161.28it/s]\n",
      "Computing 3-local entropy: 100%|██████████| 100/100 [00:00<00:00, 9460.69it/s]\n",
      "Computing 3-local entropy: 100%|██████████| 100/100 [00:00<00:00, 7357.78it/s]\n",
      "Computing 3-local entropy: 100%|██████████| 100/100 [00:00<00:00, 7563.71it/s]\n",
      "Computing 3-local entropy: 100%|██████████| 100/100 [00:00<00:00, 7191.76it/s]\n",
      "Computing 3-local entropy: 100%|██████████| 100/100 [00:00<00:00, 8767.17it/s]\n",
      "Computing 3-local entropy: 100%|██████████| 100/100 [00:00<00:00, 7201.51it/s]\n",
      "Computing 3-local entropy: 100%|██████████| 100/100 [00:00<00:00, 7048.18it/s]\n",
      "Computing 3-local entropy: 100%|██████████| 100/100 [00:00<00:00, 7913.33it/s]\n",
      "Computing 3-local entropy: 100%|██████████| 100/100 [00:00<00:00, 10476.85it/s]\n",
      "Computing 3-local entropy: 100%|██████████| 100/100 [00:00<00:00, 8791.98it/s]\n",
      "Computing 3-local entropy: 100%|██████████| 100/100 [00:00<00:00, 10715.88it/s]\n",
      "Computing 3-local entropy: 100%|██████████| 100/100 [00:00<00:00, 11398.49it/s]\n",
      "Computing 3-local entropy: 100%|██████████| 100/100 [00:00<00:00, 11918.68it/s]\n",
      "Computing 3-local entropy: 100%|██████████| 100/100 [00:00<00:00, 10399.44it/s]\n",
      "Computing 3-local entropy: 100%|██████████| 100/100 [00:00<00:00, 10422.18it/s]\n",
      "Computing 3-local entropy: 100%|██████████| 100/100 [00:00<00:00, 11329.83it/s]\n",
      "Computing 3-local entropy: 100%|██████████| 100/100 [00:00<00:00, 12344.54it/s]\n",
      "Computing 3-local entropy: 100%|██████████| 100/100 [00:00<00:00, 7397.49it/s]\n",
      "Computing 3-local entropy: 100%|██████████| 100/100 [00:00<00:00, 10917.26it/s]\n",
      "Computing 3-local entropy: 100%|██████████| 100/100 [00:00<00:00, 10518.37it/s]\n",
      "Computing 3-local entropy: 100%|██████████| 100/100 [00:00<00:00, 10689.39it/s]\n",
      "Computing 3-local entropy: 100%|██████████| 100/100 [00:00<00:00, 10794.48it/s]\n",
      "Computing 3-local entropy: 100%|██████████| 100/100 [00:00<00:00, 10170.72it/s]\n",
      "Computing 3-local entropy: 100%|██████████| 100/100 [00:00<00:00, 8029.68it/s]\n",
      "Computing 3-local entropy: 100%|██████████| 100/100 [00:00<00:00, 12268.35it/s]\n",
      "Computing 3-local entropy: 100%|██████████| 100/100 [00:00<00:00, 11398.49it/s]\n",
      "Computing 3-local entropy: 100%|██████████| 100/100 [00:00<00:00, 12001.90it/s]\n",
      "Computing 3-local entropy: 100%|██████████| 100/100 [00:00<00:00, 12156.70it/s]\n",
      "Computing 3-local entropy: 100%|██████████| 100/100 [00:00<00:00, 12106.52it/s]\n",
      "Computing 3-local entropy: 100%|██████████| 100/100 [00:00<00:00, 12260.46it/s]\n",
      "Computing 3-local entropy: 100%|██████████| 100/100 [00:00<00:00, 8842.40it/s]\n",
      "Computing 3-local entropy: 100%|██████████| 100/100 [00:00<00:00, 10546.14it/s]\n",
      "Computing 3-local entropy: 100%|██████████| 100/100 [00:00<00:00, 11391.06it/s]\n",
      "Computing 3-local entropy: 100%|██████████| 100/100 [00:00<00:00, 11836.95it/s]\n",
      "Computing 3-local entropy: 100%|██████████| 100/100 [00:00<00:00, 11502.27it/s]\n",
      "Computing 3-local entropy: 100%|██████████| 100/100 [00:00<00:00, 10808.39it/s]\n",
      "Computing 3-local entropy: 100%|██████████| 100/100 [00:00<00:00, 10525.23it/s]\n",
      "Computing 3-local entropy: 100%|██████████| 100/100 [00:00<00:00, 10367.06it/s]\n",
      "Computing 3-local entropy: 100%|██████████| 100/100 [00:00<00:00, 10553.30it/s]\n",
      "Computing 3-local entropy: 100%|██████████| 100/100 [00:00<00:00, 12180.35it/s]\n",
      "Computing 3-local entropy: 100%|██████████| 100/100 [00:00<00:00, 10814.24it/s]\n",
      "Computing 3-local entropy: 100%|██████████| 100/100 [00:00<00:00, 10317.84it/s]\n",
      "Computing 3-local entropy: 100%|██████████| 100/100 [00:00<00:00, 9703.42it/s]\n",
      "Computing 3-local entropy: 100%|██████████| 100/100 [00:00<00:00, 10248.01it/s]\n",
      "Computing 3-local entropy: 100%|██████████| 100/100 [00:00<00:00, 10498.62it/s]\n",
      "Computing 3-local entropy: 100%|██████████| 100/100 [00:00<00:00, 9030.11it/s]\n",
      "Computing 3-local entropy: 100%|██████████| 100/100 [00:00<00:00, 8803.24it/s]\n",
      "Computing 3-local entropy: 100%|██████████| 100/100 [00:00<00:00, 9478.65it/s]\n",
      "Computing 3-local entropy: 100%|██████████| 100/100 [00:00<00:00, 10885.25it/s]\n",
      "Computing 3-local entropy: 100%|██████████| 100/100 [00:00<00:00, 11063.26it/s]\n",
      "Computing 3-local entropy: 100%|██████████| 100/100 [00:00<00:00, 10769.26it/s]\n",
      "Computing 3-local entropy: 100%|██████████| 100/100 [00:00<00:00, 11829.94it/s]\n",
      "Computing 3-local entropy: 100%|██████████| 100/100 [00:00<00:00, 10536.33it/s]\n",
      "Computing 3-local entropy: 100%|██████████| 100/100 [00:00<00:00, 11876.16it/s]\n",
      "Computing 3-local entropy: 100%|██████████| 100/100 [00:00<00:00, 10596.76it/s]\n",
      "Computing 3-local entropy: 100%|██████████| 100/100 [00:00<00:00, 11186.90it/s]\n",
      "Computing 3-local entropy: 100%|██████████| 100/100 [00:00<00:00, 9212.99it/s]\n",
      "Computing 3-local entropy: 100%|██████████| 100/100 [00:00<00:00, 10151.52it/s]\n",
      "Computing 3-local entropy: 100%|██████████| 100/100 [00:00<00:00, 7112.37it/s]\n",
      "Computing 3-local entropy: 100%|██████████| 100/100 [00:00<00:00, 10576.45it/s]\n",
      "Computing 3-local entropy: 100%|██████████| 100/100 [00:00<00:00, 7729.87it/s]\n",
      "Computing 3-local entropy: 100%|██████████| 100/100 [00:00<00:00, 10650.04it/s]\n",
      "Computing 3-local entropy: 100%|██████████| 100/100 [00:00<00:00, 11825.93it/s]\n",
      "Computing 3-local entropy: 100%|██████████| 100/100 [00:00<00:00, 12112.46it/s]\n",
      "Computing 3-local entropy: 100%|██████████| 100/100 [00:00<00:00, 11166.65it/s]\n",
      "Computing 3-local entropy: 100%|██████████| 100/100 [00:00<00:00, 9345.81it/s]\n",
      "Computing 3-local entropy: 100%|██████████| 100/100 [00:00<00:00, 12205.52it/s]\n",
      "Computing 3-local entropy: 100%|██████████| 100/100 [00:00<00:00, 11845.64it/s]\n",
      "Computing 3-local entropy: 100%|██████████| 100/100 [00:00<00:00, 10861.29it/s]\n",
      "Computing 3-local entropy: 100%|██████████| 100/100 [00:00<00:00, 10945.76it/s]\n",
      "Computing 3-local entropy: 100%|██████████| 100/100 [00:00<00:00, 11965.61it/s]\n",
      "Computing 3-local entropy: 100%|██████████| 100/100 [00:00<00:00, 11111.33it/s]\n",
      "Computing 3-local entropy: 100%|██████████| 100/100 [00:00<00:00, 10876.78it/s]\n",
      "Computing 3-local entropy: 100%|██████████| 100/100 [00:00<00:00, 10692.66it/s]\n",
      "Computing 3-local entropy: 100%|██████████| 100/100 [00:00<00:00, 11746.78it/s]\n",
      "Computing 3-local entropy: 100%|██████████| 100/100 [00:00<00:00, 11974.49it/s]\n",
      "Computing 3-local entropy: 100%|██████████| 100/100 [00:00<00:00, 11009.54it/s]\n",
      "Computing 3-local entropy: 100%|██████████| 100/100 [00:00<00:00, 6784.81it/s]\n",
      "Computing 3-local entropy: 100%|██████████| 100/100 [00:00<00:00, 10301.87it/s]\n",
      "Computing 3-local entropy: 100%|██████████| 100/100 [00:00<00:00, 12038.07it/s]\n",
      "Computing 3-local entropy: 100%|██████████| 100/100 [00:00<00:00, 11826.93it/s]\n",
      "Computing 3-local entropy: 100%|██████████| 100/100 [00:00<00:00, 10820.10it/s]\n",
      "Computing 3-local entropy: 100%|██████████| 100/100 [00:00<00:00, 10527.61it/s]\n",
      "Computing 3-local entropy: 100%|██████████| 100/100 [00:00<00:00, 12525.17it/s]\n",
      "Computing 3-local entropy: 100%|██████████| 100/100 [00:00<00:00, 12045.33it/s]\n",
      "Computing 3-local entropy: 100%|██████████| 100/100 [00:00<00:00, 11949.92it/s]\n",
      "Computing 3-local entropy: 100%|██████████| 100/100 [00:00<00:00, 11134.63it/s]\n",
      "Computing 3-local entropy: 100%|██████████| 100/100 [00:00<00:00, 12220.81it/s]\n",
      "Computing 3-local entropy: 100%|██████████| 100/100 [00:00<00:00, 12081.76it/s]\n",
      "Computing 3-local entropy: 100%|██████████| 100/100 [00:00<00:00, 11762.92it/s]\n",
      "Computing 3-local entropy: 100%|██████████| 100/100 [00:00<00:00, 11431.11it/s]\n",
      "Computing 3-local entropy: 100%|██████████| 100/100 [00:00<00:00, 12153.53it/s]\n",
      "Computing 3-local entropy: 100%|██████████| 100/100 [00:00<00:00, 12537.53it/s]\n",
      "Computing 3-local entropy: 100%|██████████| 100/100 [00:00<00:00, 11200.64it/s]\n",
      "100%|██████████| 200/200 [00:03<00:00, 65.91it/s]"
     ]
    },
    {
     "name": "stdout",
     "output_type": "stream",
     "text": [
      "1.9038141061786829\n",
      "0.2543140951734376\n",
      "19.999999999999993\n",
      "3.3608370959206776e-14\n"
     ]
    },
    {
     "name": "stderr",
     "output_type": "stream",
     "text": [
      "\n"
     ]
    }
   ],
   "source": [
    "# entropies, mean_lengths = [], []\n",
    "\n",
    "# for t in trange(200):\n",
    "#     A = random_dpfsa(\n",
    "#         6,\n",
    "#         10,\n",
    "#         conditions=[lambda A: 10 < A.mean_length < 30],\n",
    "#         mean_length=20,\n",
    "#         topology_seed=2,\n",
    "#         weight_seed=random.randint(0, 100000),\n",
    "#         # seed=random.randint(0, 100000),\n",
    "#     )\n",
    "#     # A = random_dpfsa(5, 20, random.randint(0, 100000))\n",
    "#     # A = random_ngram(4, 3, random.randint(0, 100000))\n",
    "#     # entropies.append({m: A.local_entropy(m) for m in range(2, 4)})\n",
    "#     entropies.append(A.local_entropy(3))\n",
    "#     if not 0 < A.mean_length < 100:\n",
    "#         # print(A.mean_length)\n",
    "#         break\n",
    "#     mean_lengths.append(A.mean_length)\n",
    "\n",
    "# print(np.median(entropies))\n",
    "# print(np.std(entropies))\n",
    "# print(np.median(mean_lengths))\n",
    "# print(np.std(mean_lengths))"
   ]
  },
  {
   "cell_type": "code",
   "execution_count": null,
   "metadata": {},
   "outputs": [],
   "source": [
    "# def plot_distribution(x, bins=30, kde=True):\n",
    "#     plt.figure(figsize=(8, 5))\n",
    "#     sns.histplot(x, bins=bins, kde=kde, color=\"steelblue\")\n",
    "\n",
    "#     plt.xlabel(\"x\")\n",
    "#     plt.ylabel(\"Frequency\")\n",
    "#     plt.title(\"Distribution\")\n",
    "#     plt.grid(True, linestyle=\"--\", alpha=0.6)\n",
    "\n",
    "#     plt.show()"
   ]
  },
  {
   "cell_type": "code",
   "execution_count": null,
   "metadata": {},
   "outputs": [
    {
     "data": {
      "image/png": "[encoded data removed]",
      "text/plain": [
       "<Figure size 800x500 with 1 Axes>"
      ]
     },
     "metadata": {},
     "output_type": "display_data"
    }
   ],
   "source": [
    "# plot_distribution(entropies, bins=50, kde=True)"
   ]
  },
  {
   "cell_type": "code",
   "execution_count": null,
   "metadata": {},
   "outputs": [
    {
     "ename": "ValueError",
     "evalue": "Too many bins for data range. Cannot create 50 finite-sized bins.",
     "output_type": "error",
     "traceback": [
      "\u001b[0;31m---------------------------------------------------------------------------\u001b[0m",
      "\u001b[0;31mValueError\u001b[0m                                Traceback (most recent call last)",
      "Cell \u001b[0;32mIn[27], line 1\u001b[0m\n\u001b[0;32m----> 1\u001b[0m plot_distribution(mean_lengths, bins\u001b[38;5;241m=\u001b[39m\u001b[38;5;241m50\u001b[39m, kde\u001b[38;5;241m=\u001b[39m\u001b[38;5;28;01mTrue\u001b[39;00m)\n",
      "Cell \u001b[0;32mIn[25], line 3\u001b[0m, in \u001b[0;36mplot_distribution\u001b[0;34m(x, bins, kde)\u001b[0m\n\u001b[1;32m      1\u001b[0m \u001b[38;5;28;01mdef\u001b[39;00m \u001b[38;5;21mplot_distribution\u001b[39m(x, bins\u001b[38;5;241m=\u001b[39m\u001b[38;5;241m30\u001b[39m, kde\u001b[38;5;241m=\u001b[39m\u001b[38;5;28;01mTrue\u001b[39;00m):\n\u001b[1;32m      2\u001b[0m     plt\u001b[38;5;241m.\u001b[39mfigure(figsize\u001b[38;5;241m=\u001b[39m(\u001b[38;5;241m8\u001b[39m, \u001b[38;5;241m5\u001b[39m))\n\u001b[0;32m----> 3\u001b[0m     sns\u001b[38;5;241m.\u001b[39mhistplot(x, bins\u001b[38;5;241m=\u001b[39mbins, kde\u001b[38;5;241m=\u001b[39mkde, color\u001b[38;5;241m=\u001b[39m\u001b[38;5;124m\"\u001b[39m\u001b[38;5;124msteelblue\u001b[39m\u001b[38;5;124m\"\u001b[39m)\n\u001b[1;32m      5\u001b[0m     plt\u001b[38;5;241m.\u001b[39mxlabel(\u001b[38;5;124m\"\u001b[39m\u001b[38;5;124mx\u001b[39m\u001b[38;5;124m\"\u001b[39m)\n\u001b[1;32m      6\u001b[0m     plt\u001b[38;5;241m.\u001b[39mylabel(\u001b[38;5;124m\"\u001b[39m\u001b[38;5;124mFrequency\u001b[39m\u001b[38;5;124m\"\u001b[39m)\n",
      "File \u001b[0;32m~/miniconda3/envs/lent/lib/python3.11/site-packages/seaborn/distributions.py:1416\u001b[0m, in \u001b[0;36mhistplot\u001b[0;34m(data, x, y, hue, weights, stat, bins, binwidth, binrange, discrete, cumulative, common_bins, common_norm, multiple, element, fill, shrink, kde, kde_kws, line_kws, thresh, pthresh, pmax, cbar, cbar_ax, cbar_kws, palette, hue_order, hue_norm, color, log_scale, legend, ax, **kwargs)\u001b[0m\n\u001b[1;32m   1405\u001b[0m estimate_kws \u001b[38;5;241m=\u001b[39m \u001b[38;5;28mdict\u001b[39m(\n\u001b[1;32m   1406\u001b[0m     stat\u001b[38;5;241m=\u001b[39mstat,\n\u001b[1;32m   1407\u001b[0m     bins\u001b[38;5;241m=\u001b[39mbins,\n\u001b[0;32m   (...)\u001b[0m\n\u001b[1;32m   1411\u001b[0m     cumulative\u001b[38;5;241m=\u001b[39mcumulative,\n\u001b[1;32m   1412\u001b[0m )\n\u001b[1;32m   1414\u001b[0m \u001b[38;5;28;01mif\u001b[39;00m p\u001b[38;5;241m.\u001b[39munivariate:\n\u001b[0;32m-> 1416\u001b[0m     p\u001b[38;5;241m.\u001b[39mplot_univariate_histogram(\n\u001b[1;32m   1417\u001b[0m         multiple\u001b[38;5;241m=\u001b[39mmultiple,\n\u001b[1;32m   1418\u001b[0m         element\u001b[38;5;241m=\u001b[39melement,\n\u001b[1;32m   1419\u001b[0m         fill\u001b[38;5;241m=\u001b[39mfill,\n\u001b[1;32m   1420\u001b[0m         shrink\u001b[38;5;241m=\u001b[39mshrink,\n\u001b[1;32m   1421\u001b[0m         common_norm\u001b[38;5;241m=\u001b[39mcommon_norm,\n\u001b[1;32m   1422\u001b[0m         common_bins\u001b[38;5;241m=\u001b[39mcommon_bins,\n\u001b[1;32m   1423\u001b[0m         kde\u001b[38;5;241m=\u001b[39mkde,\n\u001b[1;32m   1424\u001b[0m         kde_kws\u001b[38;5;241m=\u001b[39mkde_kws,\n\u001b[1;32m   1425\u001b[0m         color\u001b[38;5;241m=\u001b[39mcolor,\n\u001b[1;32m   1426\u001b[0m         legend\u001b[38;5;241m=\u001b[39mlegend,\n\u001b[1;32m   1427\u001b[0m         estimate_kws\u001b[38;5;241m=\u001b[39mestimate_kws,\n\u001b[1;32m   1428\u001b[0m         line_kws\u001b[38;5;241m=\u001b[39mline_kws,\n\u001b[1;32m   1429\u001b[0m         \u001b[38;5;241m*\u001b[39m\u001b[38;5;241m*\u001b[39mkwargs,\n\u001b[1;32m   1430\u001b[0m     )\n\u001b[1;32m   1432\u001b[0m \u001b[38;5;28;01melse\u001b[39;00m:\n\u001b[1;32m   1434\u001b[0m     p\u001b[38;5;241m.\u001b[39mplot_bivariate_histogram(\n\u001b[1;32m   1435\u001b[0m         common_bins\u001b[38;5;241m=\u001b[39mcommon_bins,\n\u001b[1;32m   1436\u001b[0m         common_norm\u001b[38;5;241m=\u001b[39mcommon_norm,\n\u001b[0;32m   (...)\u001b[0m\n\u001b[1;32m   1446\u001b[0m         \u001b[38;5;241m*\u001b[39m\u001b[38;5;241m*\u001b[39mkwargs,\n\u001b[1;32m   1447\u001b[0m     )\n",
      "File \u001b[0;32m~/miniconda3/envs/lent/lib/python3.11/site-packages/seaborn/distributions.py:470\u001b[0m, in \u001b[0;36m_DistributionPlotter.plot_univariate_histogram\u001b[0;34m(self, multiple, element, fill, common_norm, common_bins, shrink, kde, kde_kws, color, legend, line_kws, estimate_kws, **plot_kws)\u001b[0m\n\u001b[1;32m    468\u001b[0m \u001b[38;5;66;03m# Do the histogram computation\u001b[39;00m\n\u001b[1;32m    469\u001b[0m \u001b[38;5;28;01mif\u001b[39;00m \u001b[38;5;129;01mnot\u001b[39;00m (multiple_histograms \u001b[38;5;129;01mand\u001b[39;00m common_bins):\n\u001b[0;32m--> 470\u001b[0m     bin_kws \u001b[38;5;241m=\u001b[39m estimator\u001b[38;5;241m.\u001b[39m_define_bin_params(sub_data, orient, \u001b[38;5;28;01mNone\u001b[39;00m)\n\u001b[1;32m    471\u001b[0m res \u001b[38;5;241m=\u001b[39m estimator\u001b[38;5;241m.\u001b[39m_normalize(estimator\u001b[38;5;241m.\u001b[39m_eval(sub_data, orient, bin_kws))\n\u001b[1;32m    472\u001b[0m heights \u001b[38;5;241m=\u001b[39m res[estimator\u001b[38;5;241m.\u001b[39mstat]\u001b[38;5;241m.\u001b[39mto_numpy()\n",
      "File \u001b[0;32m~/miniconda3/envs/lent/lib/python3.11/site-packages/seaborn/_stats/counting.py:152\u001b[0m, in \u001b[0;36mHist._define_bin_params\u001b[0;34m(self, data, orient, scale_type)\u001b[0m\n\u001b[1;32m    148\u001b[0m \u001b[38;5;66;03m# TODO We'll want this for ordinal / discrete scales too\u001b[39;00m\n\u001b[1;32m    149\u001b[0m \u001b[38;5;66;03m# (Do we need discrete as a parameter or just infer from scale?)\u001b[39;00m\n\u001b[1;32m    150\u001b[0m discrete \u001b[38;5;241m=\u001b[39m \u001b[38;5;28mself\u001b[39m\u001b[38;5;241m.\u001b[39mdiscrete \u001b[38;5;129;01mor\u001b[39;00m scale_type \u001b[38;5;241m==\u001b[39m \u001b[38;5;124m\"\u001b[39m\u001b[38;5;124mnominal\u001b[39m\u001b[38;5;124m\"\u001b[39m\n\u001b[0;32m--> 152\u001b[0m bin_edges \u001b[38;5;241m=\u001b[39m \u001b[38;5;28mself\u001b[39m\u001b[38;5;241m.\u001b[39m_define_bin_edges(\n\u001b[1;32m    153\u001b[0m     vals, weights, \u001b[38;5;28mself\u001b[39m\u001b[38;5;241m.\u001b[39mbins, \u001b[38;5;28mself\u001b[39m\u001b[38;5;241m.\u001b[39mbinwidth, \u001b[38;5;28mself\u001b[39m\u001b[38;5;241m.\u001b[39mbinrange, discrete,\n\u001b[1;32m    154\u001b[0m )\n\u001b[1;32m    156\u001b[0m \u001b[38;5;28;01mif\u001b[39;00m \u001b[38;5;28misinstance\u001b[39m(\u001b[38;5;28mself\u001b[39m\u001b[38;5;241m.\u001b[39mbins, (\u001b[38;5;28mstr\u001b[39m, \u001b[38;5;28mint\u001b[39m)):\n\u001b[1;32m    157\u001b[0m     n_bins \u001b[38;5;241m=\u001b[39m \u001b[38;5;28mlen\u001b[39m(bin_edges) \u001b[38;5;241m-\u001b[39m \u001b[38;5;241m1\u001b[39m\n",
      "File \u001b[0;32m~/miniconda3/envs/lent/lib/python3.11/site-packages/seaborn/_stats/counting.py:137\u001b[0m, in \u001b[0;36mHist._define_bin_edges\u001b[0;34m(self, vals, weight, bins, binwidth, binrange, discrete)\u001b[0m\n\u001b[1;32m    135\u001b[0m     \u001b[38;5;28;01mif\u001b[39;00m binwidth \u001b[38;5;129;01mis\u001b[39;00m \u001b[38;5;129;01mnot\u001b[39;00m \u001b[38;5;28;01mNone\u001b[39;00m:\n\u001b[1;32m    136\u001b[0m         bins \u001b[38;5;241m=\u001b[39m \u001b[38;5;28mint\u001b[39m(\u001b[38;5;28mround\u001b[39m((stop \u001b[38;5;241m-\u001b[39m start) \u001b[38;5;241m/\u001b[39m binwidth))\n\u001b[0;32m--> 137\u001b[0m     bin_edges \u001b[38;5;241m=\u001b[39m np\u001b[38;5;241m.\u001b[39mhistogram_bin_edges(vals, bins, binrange, weight)\n\u001b[1;32m    139\u001b[0m \u001b[38;5;66;03m# TODO warning or cap on too many bins?\u001b[39;00m\n\u001b[1;32m    141\u001b[0m \u001b[38;5;28;01mreturn\u001b[39;00m bin_edges\n",
      "File \u001b[0;32m~/miniconda3/envs/lent/lib/python3.11/site-packages/numpy/lib/_histograms_impl.py:680\u001b[0m, in \u001b[0;36mhistogram_bin_edges\u001b[0;34m(a, bins, range, weights)\u001b[0m\n\u001b[1;32m    479\u001b[0m \u001b[38;5;250m\u001b[39m\u001b[38;5;124mr\u001b[39m\u001b[38;5;124;03m\"\"\"\u001b[39;00m\n\u001b[1;32m    480\u001b[0m \u001b[38;5;124;03mFunction to calculate only the edges of the bins used by the `histogram`\u001b[39;00m\n\u001b[1;32m    481\u001b[0m \u001b[38;5;124;03mfunction.\u001b[39;00m\n\u001b[0;32m   (...)\u001b[0m\n\u001b[1;32m    677\u001b[0m \n\u001b[1;32m    678\u001b[0m \u001b[38;5;124;03m\"\"\"\u001b[39;00m\n\u001b[1;32m    679\u001b[0m a, weights \u001b[38;5;241m=\u001b[39m _ravel_and_check_weights(a, weights)\n\u001b[0;32m--> 680\u001b[0m bin_edges, _ \u001b[38;5;241m=\u001b[39m _get_bin_edges(a, bins, \u001b[38;5;28mrange\u001b[39m, weights)\n\u001b[1;32m    681\u001b[0m \u001b[38;5;28;01mreturn\u001b[39;00m bin_edges\n",
      "File \u001b[0;32m~/miniconda3/envs/lent/lib/python3.11/site-packages/numpy/lib/_histograms_impl.py:453\u001b[0m, in \u001b[0;36m_get_bin_edges\u001b[0;34m(a, bins, range, weights)\u001b[0m\n\u001b[1;32m    449\u001b[0m     bin_edges \u001b[38;5;241m=\u001b[39m np\u001b[38;5;241m.\u001b[39mlinspace(\n\u001b[1;32m    450\u001b[0m         first_edge, last_edge, n_equal_bins \u001b[38;5;241m+\u001b[39m \u001b[38;5;241m1\u001b[39m,\n\u001b[1;32m    451\u001b[0m         endpoint\u001b[38;5;241m=\u001b[39m\u001b[38;5;28;01mTrue\u001b[39;00m, dtype\u001b[38;5;241m=\u001b[39mbin_type)\n\u001b[1;32m    452\u001b[0m     \u001b[38;5;28;01mif\u001b[39;00m np\u001b[38;5;241m.\u001b[39many(bin_edges[:\u001b[38;5;241m-\u001b[39m\u001b[38;5;241m1\u001b[39m] \u001b[38;5;241m>\u001b[39m\u001b[38;5;241m=\u001b[39m bin_edges[\u001b[38;5;241m1\u001b[39m:]):\n\u001b[0;32m--> 453\u001b[0m         \u001b[38;5;28;01mraise\u001b[39;00m \u001b[38;5;167;01mValueError\u001b[39;00m(\n\u001b[1;32m    454\u001b[0m             \u001b[38;5;124mf\u001b[39m\u001b[38;5;124m'\u001b[39m\u001b[38;5;124mToo many bins for data range. Cannot create \u001b[39m\u001b[38;5;132;01m{\u001b[39;00mn_equal_bins\u001b[38;5;132;01m}\u001b[39;00m\u001b[38;5;124m \u001b[39m\u001b[38;5;124m'\u001b[39m\n\u001b[1;32m    455\u001b[0m             \u001b[38;5;124mf\u001b[39m\u001b[38;5;124m'\u001b[39m\u001b[38;5;124mfinite-sized bins.\u001b[39m\u001b[38;5;124m'\u001b[39m)\n\u001b[1;32m    456\u001b[0m     \u001b[38;5;28;01mreturn\u001b[39;00m bin_edges, (first_edge, last_edge, n_equal_bins)\n\u001b[1;32m    457\u001b[0m \u001b[38;5;28;01melse\u001b[39;00m:\n",
      "\u001b[0;31mValueError\u001b[0m: Too many bins for data range. Cannot create 50 finite-sized bins."
     ]
    },
    {
     "data": {
      "image/png": "[encoded data removed]",
      "text/plain": [
       "<Figure size 800x500 with 1 Axes>"
      ]
     },
     "metadata": {},
     "output_type": "display_data"
    }
   ],
   "source": [
    "# plot_distribution(mean_lengths, bins=50, kde=True)"
   ]
  }
 ],
 "metadata": {
  "kernelspec": {
   "display_name": "lent",
   "language": "python",
   "name": "python3"
  },
  "language_info": {
   "codemirror_mode": {
    "name": "ipython",
    "version": 3
   },
   "file_extension": ".py",
   "mimetype": "text/x-python",
   "name": "python",
   "nbconvert_exporter": "python",
   "pygments_lexer": "ipython3",
   "version": "3.11.11"
  }
 },
 "nbformat": 4,
 "nbformat_minor": 2
}
