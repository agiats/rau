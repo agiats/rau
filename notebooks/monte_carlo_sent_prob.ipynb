{
 "cells": [
  {
   "cell_type": "code",
   "execution_count": 4,
   "metadata": {},
   "outputs": [],
   "source": [
    "import argparse\n",
    "import os\n",
    "import random\n",
    "\n",
    "\n",
    "class PCFG:\n",
    "    \"\"\"\n",
    "    PCFG to sample sentences from\n",
    "    \"\"\"\n",
    "    def __init__(self, grammar_file):\n",
    "        self.rules = None\n",
    "        self.change_rules = None\n",
    "        self.load_rules(grammar_file)\n",
    "\n",
    "    def load_rules(self, grammar_file):\n",
    "        new_rules = {}\n",
    "        change = {}\n",
    "        g_file = open(grammar_file, 'r')\n",
    "        lines = g_file.readlines()\n",
    "        for l in lines:\n",
    "            if l.startswith(('#', \" \", \"\\t\", \"\\n\")) or len(l) < 1:\n",
    "                continue\n",
    "            else:\n",
    "                if l.find(\"#\") != -1:\n",
    "                    l = l[:l.find(\"#\")]\n",
    "                idx = -1\n",
    "                if len(l.rstrip().split(\"\\t\")) == 3:\n",
    "                    weight, lhs, rhs = l.rstrip().split(\"\\t\")\n",
    "                elif len(l.rstrip().split(\"\\t\")) == 4:\n",
    "                    weight, lhs, rhs, idx = l.rstrip().split(\"\\t\")\n",
    "                if lhs not in new_rules.keys():\n",
    "                    new_rules[lhs] = []\n",
    "                poss_rhs = new_rules[lhs]\n",
    "                poss_rhs.append([rhs, float(weight)])\n",
    "                if idx != -1:\n",
    "                    change[lhs + \"\\t\" + rhs] = idx\n",
    "        for lhs, poss in new_rules.items():\n",
    "            total = 0\n",
    "            for rhs in poss:\n",
    "                total += rhs[1]\n",
    "            for rhs in poss:\n",
    "                rhs[1] /= total\n",
    "        self.rules = new_rules\n",
    "        self.change_rules = change\n",
    "\n",
    "    def sample_sentence(self, max_expansions, bracketing):\n",
    "        self.expansions = 0\n",
    "        done = False\n",
    "        sent = [\"ROOT\"]\n",
    "        idx = 0\n",
    "        while not done:\n",
    "            if sent[idx] not in self.rules.keys():\n",
    "                idx += 1\n",
    "                if idx >= len(sent):\n",
    "                    done = True\n",
    "                continue\n",
    "            else:\n",
    "                replace, change_idx = self.expand(sent[idx])\n",
    "                if bracketing:\n",
    "                    if change_idx == -1:\n",
    "                        sent = (sent[:idx]\n",
    "                            + [\"(\", sent[idx]] + replace + [\")\"]\n",
    "                            + sent[idx + 1:])\n",
    "                    else:\n",
    "                        sent = (sent[:idx]\n",
    "                            + [\"(\", change_idx + sent[idx]] + replace + [\")\"]\n",
    "                            + sent[idx + 1:])\n",
    "                else:\n",
    "                    sent = sent[:idx] + replace  + sent[idx + 1:]\n",
    "                self.expansions += 1\n",
    "                if bracketing:\n",
    "                    idx += 2\n",
    "                if self.expansions > max_expansions:\n",
    "                    done = True\n",
    "                if idx >= len(sent):\n",
    "                    done = True\n",
    "        if self.expansions > max_expansions:\n",
    "            print(\"Max expansions reached\")\n",
    "            for idx in range(len(sent)):\n",
    "                if not bracketing:\n",
    "                    if sent[idx] in self.rules.keys():\n",
    "                        sent[idx] = \"...\"\n",
    "                else:\n",
    "                    if sent[idx] in self.rules.keys() and sent[idx - 1] != \"(\":\n",
    "                        sent[idx] = \"...\"\n",
    "        return ' '.join(sent)\n",
    "\n",
    "    def expand(self, symbol):\n",
    "        poss = self.rules[symbol]\n",
    "        sample = random.random()\n",
    "        val = 0.0\n",
    "        rhs = \"\"\n",
    "        idx = -1\n",
    "        for p in poss:\n",
    "            val += p[1]\n",
    "            if sample <= val:\n",
    "                if symbol + \"\\t\" + p[0] in self.change_rules.keys():\n",
    "                    idx = self.change_rules[symbol + \"\\t\" + p[0]]\n",
    "                rhs = p[0]\n",
    "                break\n",
    "        return rhs.split(\" \"), idx\n",
    "\n"
   ]
  },
  {
   "cell_type": "code",
   "execution_count": 5,
   "metadata": {},
   "outputs": [],
   "source": [
    "# monte carlo sampling and estimate probability of a sentence\n",
    "n_sample = 1_000_000\n",
    "\n",
    "def monte_carlo_estimation(grammar_file, max_expansions, n_sample):\n",
    "    sentence_to_count = {}\n",
    "    grammar = PCFG(grammar_file)\n",
    "    for i in range(n_sample):\n",
    "        sent = grammar.sample_sentence(max_expansions=max_expansions, False)\n",
    "        if sent not in sentence_to_count.keys():\n",
    "            sentence_to_count[sent] = 0\n",
    "        sentence_to_count[sent] += 1\n",
    "\n",
    "    return sentence_to_count\n",
    "\n",
    "\n"
   ]
  },
  {
   "cell_type": "code",
   "execution_count": 6,
   "metadata": {},
   "outputs": [
    {
     "name": "stdout",
     "output_type": "stream",
     "text": [
      "Max expansions reached\n",
      "Max expansions reached\n",
      "Max expansions reached\n"
     ]
    }
   ],
   "source": [
    "n_sample = 1_000_000\n",
    "sentence_to_count = monte_carlo_estimation(\"data_gen/base-grammar_eos.gr\", 400, n_sample)"
   ]
  },
  {
   "cell_type": "markdown",
   "metadata": {},
   "source": [
    "## Shuffle"
   ]
  },
  {
   "cell_type": "code",
   "execution_count": 22,
   "metadata": {},
   "outputs": [
    {
     "name": "stdout",
     "output_type": "stream",
     "text": [
      "[5, 4, 3, 1, 2]\n"
     ]
    }
   ],
   "source": [
    "# random.seed(42)\n",
    "tokens = [1,2,3,4,5]\n",
    "random.shuffle(tokens)\n",
    "print(tokens)"
   ]
  },
  {
   "cell_type": "code",
   "execution_count": 73,
   "metadata": {},
   "outputs": [],
   "source": [
    "class PCFG:\n",
    "    def __init__(self, grammar_file):\n",
    "        pass\n",
    "\n",
    "    def sample_sentence(self, max_expansions, bracketing):\n",
    "        return \"1 2 3 4 5 [eos]\"\n",
    "\n",
    "class PCFGDeterministicShuffle(PCFG):\n",
    "    def __init__(self, grammar_file, seed=42):\n",
    "        super().__init__(grammar_file)\n",
    "        self.seed = seed\n",
    "\n",
    "    def sample_sentence(self, max_expansions, bracketing):\n",
    "        sent = super().sample_sentence(max_expansions, bracketing)\n",
    "\n",
    "        tokens = sent.split(' ')\n",
    "        # Remove and store [eos]\n",
    "        eos = tokens.pop() if tokens[-1] == '[eos]' else None\n",
    "\n",
    "        random.seed(self.seed)\n",
    "        random.shuffle(tokens)\n",
    "\n",
    "        # Add back [eos]\n",
    "        if eos:\n",
    "            tokens.append(eos)\n",
    "        return ' '.join(tokens)\n",
    "\n",
    "class PCFGNonDeterministicShuffle(PCFG):\n",
    "    def __init__(self, grammar_file):\n",
    "        super().__init__(grammar_file)\n",
    "\n",
    "    def sample_sentence(self, max_expansions, bracketing):\n",
    "        sent = super().sample_sentence(max_expansions, bracketing)\n",
    "\n",
    "        tokens = sent.split(' ')\n",
    "        eos = tokens.pop() if tokens[-1] == '[eos]' else None\n",
    "\n",
    "        random.shuffle(tokens)\n",
    "\n",
    "        if eos:\n",
    "            tokens.append(eos)\n",
    "        return ' '.join(tokens)\n",
    "\n",
    "class PCFGLocalShuffle(PCFG):\n",
    "    def __init__(self, grammar_file, window=5, seed=42):\n",
    "        super().__init__(grammar_file)\n",
    "        self.window = window\n",
    "        self.seed = seed\n",
    "\n",
    "    def sample_sentence(self, max_expansions, bracketing):\n",
    "        sent = super().sample_sentence(max_expansions, bracketing)\n",
    "\n",
    "        tokens = sent.split(' ')\n",
    "        eos = tokens.pop() if tokens[-1] == '[eos]' else None\n",
    "\n",
    "        shuffled_tokens = []\n",
    "        random.seed(self.seed)\n",
    "\n",
    "        for i in range(0, len(tokens), self.window):\n",
    "            batch = tokens[i:min(i+self.window, len(tokens))].copy()\n",
    "            random.shuffle(batch)\n",
    "            shuffled_tokens.extend(batch)\n",
    "\n",
    "        if eos:\n",
    "            shuffled_tokens.append(eos)\n",
    "        return ' '.join(shuffled_tokens)\n",
    "\n",
    "class PCFGEvenOddShuffle(PCFG):\n",
    "    def __init__(self, grammar_file):\n",
    "        super().__init__(grammar_file)\n",
    "\n",
    "    def sample_sentence(self, max_expansions, bracketing):\n",
    "        sent = super().sample_sentence(max_expansions, bracketing)\n",
    "\n",
    "        tokens = sent.split(' ')\n",
    "        eos = tokens.pop() if tokens[-1] == '[eos]' else None\n",
    "\n",
    "        even = [tok for i, tok in enumerate(tokens) if i % 2 == 0]\n",
    "        odd = [tok for i, tok in enumerate(tokens) if i % 2 != 0]\n",
    "        shuffled = even + odd\n",
    "\n",
    "        if eos:\n",
    "            shuffled.append(eos)\n",
    "        return ' '.join(shuffled)"
   ]
  },
  {
   "cell_type": "code",
   "execution_count": 75,
   "metadata": {},
   "outputs": [
    {
     "data": {
      "text/plain": [
       "'4 2 3 5 1 [eos]'"
      ]
     },
     "execution_count": 75,
     "metadata": {},
     "output_type": "execute_result"
    }
   ],
   "source": [
    "pcfg_det = PCFGDeterministicShuffle(\"data_gen/base-grammar_eos.gr\")\n",
    "pcfg_det.sample_sentence(400, False)"
   ]
  },
  {
   "cell_type": "code",
   "execution_count": 76,
   "metadata": {},
   "outputs": [
    {
     "data": {
      "text/plain": [
       "'4 3 1 5 2 [eos]'"
      ]
     },
     "execution_count": 76,
     "metadata": {},
     "output_type": "execute_result"
    }
   ],
   "source": [
    "pcfg_nondet = PCFGNonDeterministicShuffle(\"data_gen/base-grammar_eos.gr\")\n",
    "pcfg_nondet.sample_sentence(400, False)"
   ]
  },
  {
   "cell_type": "code",
   "execution_count": 77,
   "metadata": {},
   "outputs": [
    {
     "data": {
      "text/plain": [
       "'2 1 4 3 5 [eos]'"
      ]
     },
     "execution_count": 77,
     "metadata": {},
     "output_type": "execute_result"
    }
   ],
   "source": [
    "pcfg_local = PCFGLocalShuffle(\"data_gen/base-grammar_eos.gr\", window=2, seed=42)\n",
    "pcfg_local.sample_sentence(400, False)"
   ]
  },
  {
   "cell_type": "code",
   "execution_count": 78,
   "metadata": {},
   "outputs": [
    {
     "data": {
      "text/plain": [
       "'1 3 5 2 4 [eos]'"
      ]
     },
     "execution_count": 78,
     "metadata": {},
     "output_type": "execute_result"
    }
   ],
   "source": [
    "pcfg_even_odd = PCFGEvenOddShuffle(\"data_gen/base-grammar_eos.gr\")\n",
    "pcfg_even_odd.sample_sentence(400, False)"
   ]
  },
  {
   "cell_type": "code",
   "execution_count": 84,
   "metadata": {},
   "outputs": [],
   "source": [
    "class PCFG:\n",
    "    \"\"\"\n",
    "    PCFG to sample sentences from\n",
    "    \"\"\"\n",
    "    def __init__(self, grammar_file):\n",
    "        self.rules = None\n",
    "        self.change_rules = None\n",
    "        self.load_rules(grammar_file)\n",
    "\n",
    "    def load_rules(self, grammar_file):\n",
    "        new_rules = {}\n",
    "        change = {}\n",
    "        g_file = open(grammar_file, 'r')\n",
    "        lines = g_file.readlines()\n",
    "        for l in lines:\n",
    "            if l.startswith(('#', \" \", \"\\t\", \"\\n\")) or len(l) < 1:\n",
    "                continue\n",
    "            else:\n",
    "                if l.find(\"#\") != -1:\n",
    "                    l = l[:l.find(\"#\")]\n",
    "                idx = -1\n",
    "                if len(l.rstrip().split(\"\\t\")) == 3:\n",
    "                    weight, lhs, rhs = l.rstrip().split(\"\\t\")\n",
    "                elif len(l.rstrip().split(\"\\t\")) == 4:\n",
    "                    weight, lhs, rhs, idx = l.rstrip().split(\"\\t\")\n",
    "                if lhs not in new_rules.keys():\n",
    "                    new_rules[lhs] = []\n",
    "                poss_rhs = new_rules[lhs]\n",
    "                poss_rhs.append([rhs, float(weight)])\n",
    "                if idx != -1:\n",
    "                    change[lhs + \"\\t\" + rhs] = idx\n",
    "        for lhs, poss in new_rules.items():\n",
    "            total = 0\n",
    "            for rhs in poss:\n",
    "                total += rhs[1]\n",
    "            for rhs in poss:\n",
    "                rhs[1] /= total\n",
    "        self.rules = new_rules\n",
    "        self.change_rules = change\n",
    "\n",
    "    def sample_sentence(self, max_expansions, bracketing):\n",
    "        self.expansions = 0\n",
    "        done = False\n",
    "        sent = [\"ROOT\"]\n",
    "        idx = 0\n",
    "        while not done:\n",
    "            if sent[idx] not in self.rules.keys():\n",
    "                idx += 1\n",
    "                if idx >= len(sent):\n",
    "                    done = True\n",
    "                continue\n",
    "            else:\n",
    "                replace, change_idx = self.expand(sent[idx])\n",
    "                if bracketing:\n",
    "                    if change_idx == -1:\n",
    "                        sent = (sent[:idx]\n",
    "                            + [\"(\", sent[idx]] + replace + [\")\"]\n",
    "                            + sent[idx + 1:])\n",
    "                    else:\n",
    "                        sent = (sent[:idx]\n",
    "                            + [\"(\", change_idx + sent[idx]] + replace + [\")\"]\n",
    "                            + sent[idx + 1:])\n",
    "                else:\n",
    "                    sent = sent[:idx] + replace  + sent[idx + 1:]\n",
    "                self.expansions += 1\n",
    "                if bracketing:\n",
    "                    idx += 2\n",
    "                if self.expansions > max_expansions:\n",
    "                    done = True\n",
    "                if idx >= len(sent):\n",
    "                    done = True\n",
    "        if self.expansions > max_expansions:\n",
    "            print(\"Max expansions reached\")\n",
    "            for idx in range(len(sent)):\n",
    "                if not bracketing:\n",
    "                    if sent[idx] in self.rules.keys():\n",
    "                        sent[idx] = \"...\"\n",
    "                else:\n",
    "                    if sent[idx] in self.rules.keys() and sent[idx - 1] != \"(\":\n",
    "                        sent[idx] = \"...\"\n",
    "        return ' '.join(sent)\n",
    "\n",
    "    def expand(self, symbol):\n",
    "        poss = self.rules[symbol]\n",
    "        sample = random.random()\n",
    "        val = 0.0\n",
    "        rhs = \"\"\n",
    "        idx = -1\n",
    "        for p in poss:\n",
    "            val += p[1]\n",
    "            if sample <= val:\n",
    "                if symbol + \"\\t\" + p[0] in self.change_rules.keys():\n",
    "                    idx = self.change_rules[symbol + \"\\t\" + p[0]]\n",
    "                rhs = p[0]\n",
    "                break\n",
    "        return rhs.split(\" \"), idx\n",
    "\n",
    "class PCFGDeterministicShuffle(PCFG):\n",
    "    def __init__(self, grammar_file, seed=42):\n",
    "        super().__init__(grammar_file)\n",
    "        self.seed = seed\n",
    "\n",
    "    def sample_sentence(self, max_expansions, bracketing):\n",
    "        sent = super().sample_sentence(max_expansions, bracketing)\n",
    "\n",
    "        tokens = sent.split(' ')\n",
    "        # Remove and store [eos]\n",
    "        eos = tokens.pop() if tokens[-1] == '[eos]' else None\n",
    "\n",
    "        random.seed(self.seed)\n",
    "        random.shuffle(tokens)\n",
    "\n",
    "        # Add back [eos]\n",
    "        if eos:\n",
    "            tokens.append(eos)\n",
    "        return ' '.join(tokens)\n",
    "\n",
    "class PCFGNonDeterministicShuffle(PCFG):\n",
    "    def __init__(self, grammar_file):\n",
    "        super().__init__(grammar_file)\n",
    "\n",
    "    def sample_sentence(self, max_expansions, bracketing):\n",
    "        sent = super().sample_sentence(max_expansions, bracketing)\n",
    "\n",
    "        tokens = sent.split(' ')\n",
    "        eos = tokens.pop() if tokens[-1] == '[eos]' else None\n",
    "\n",
    "        random.shuffle(tokens)\n",
    "\n",
    "        if eos:\n",
    "            tokens.append(eos)\n",
    "        return ' '.join(tokens)\n",
    "\n",
    "class PCFGLocalShuffle(PCFG):\n",
    "    def __init__(self, grammar_file, window=5, seed=42):\n",
    "        super().__init__(grammar_file)\n",
    "        self.window = window\n",
    "        self.seed = seed\n",
    "\n",
    "    def sample_sentence(self, max_expansions, bracketing):\n",
    "        sent = super().sample_sentence(max_expansions, bracketing)\n",
    "\n",
    "        tokens = sent.split(' ')\n",
    "        eos = tokens.pop() if tokens[-1] == '[eos]' else None\n",
    "\n",
    "        shuffled_tokens = []\n",
    "        random.seed(self.seed)\n",
    "\n",
    "        for i in range(0, len(tokens), self.window):\n",
    "            batch = tokens[i:min(i+self.window, len(tokens))].copy()\n",
    "            random.shuffle(batch)\n",
    "            shuffled_tokens.extend(batch)\n",
    "\n",
    "        if eos:\n",
    "            shuffled_tokens.append(eos)\n",
    "        return ' '.join(shuffled_tokens)\n",
    "\n",
    "class PCFGEvenOddShuffle(PCFG):\n",
    "    def __init__(self, grammar_file):\n",
    "        super().__init__(grammar_file)\n",
    "\n",
    "    def sample_sentence(self, max_expansions, bracketing):\n",
    "        sent = super().sample_sentence(max_expansions, bracketing)\n",
    "\n",
    "        tokens = sent.split(' ')\n",
    "        eos = tokens.pop() if tokens[-1] == '[eos]' else None\n",
    "\n",
    "        even = [tok for i, tok in enumerate(tokens) if i % 2 == 0]\n",
    "        odd = [tok for i, tok in enumerate(tokens) if i % 2 != 0]\n",
    "        shuffled = even + odd\n",
    "\n",
    "        if eos:\n",
    "            shuffled.append(eos)\n",
    "        return ' '.join(shuffled)\n"
   ]
  },
  {
   "cell_type": "code",
   "execution_count": 89,
   "metadata": {},
   "outputs": [
    {
     "data": {
      "text/plain": [
       "'ob rel peachician strubdifies peagerizes dargine sub [eos]'"
      ]
     },
     "execution_count": 89,
     "metadata": {},
     "output_type": "execute_result"
    }
   ],
   "source": [
    "pcfg_det = PCFGDeterministicShuffle(\"data_gen/base-grammar_eos.gr\", seed=42)\n",
    "pcfg_det.sample_sentence(400, False)"
   ]
  },
  {
   "cell_type": "markdown",
   "metadata": {},
   "source": [
    "## Hop"
   ]
  },
  {
   "cell_type": "code",
   "execution_count": null,
   "metadata": {},
   "outputs": [],
   "source": [
    "MARKER_HOP_SINGLE = \"SINGLE\"\n",
    "MARKER_HOP_PLURAL = \"PLURAL\"\n",
    "\n",
    "class PCFGHop(PCFG):\n"
   ]
  },
  {
   "cell_type": "markdown",
   "metadata": {},
   "source": [
    "## Reverse"
   ]
  },
  {
   "cell_type": "code",
   "execution_count": 5,
   "metadata": {},
   "outputs": [],
   "source": [
    "MARKER_REVERSE = \"REVERSE\"\n",
    "\n",
    "\n",
    "class PCFG:\n",
    "    def __init__(self, grammar_file):\n",
    "        pass\n",
    "\n",
    "    def sample_sentence(self, max_expansions, bracketing):\n",
    "        return \"1 2 3 4 5 [eos]\"\n",
    "\n",
    "class PCFGNoReverse(PCFG):\n",
    "    def __init__(self, grammar_file):\n",
    "        super().__init__(grammar_file)\n",
    "\n",
    "    def sample_sentence(self, max_expansions, bracketing):\n",
    "        sent = super().sample_sentence(max_expansions, bracketing)\n",
    "        if sent is None:\n",
    "            return None\n",
    "        tokens = sent.split(' ')\n",
    "\n",
    "        # Remove and store [eos]\n",
    "        eos = tokens.pop() if tokens[-1] == '[eos]' else None\n",
    "\n",
    "        # Insert REVERSE marker at random position\n",
    "        insert_pos = random.randint(0, len(tokens))\n",
    "        tokens.insert(insert_pos, MARKER_REVERSE)\n",
    "\n",
    "        if eos:\n",
    "            tokens.append(eos)\n",
    "        return ' '.join(tokens)\n",
    "\n",
    "class PCFGPartialReverse(PCFG):\n",
    "    def __init__(self, grammar_file):\n",
    "        super().__init__(grammar_file)\n",
    "\n",
    "    def sample_sentence(self, max_expansions, bracketing):\n",
    "        sent = super().sample_sentence(max_expansions, bracketing)\n",
    "        if sent is None:\n",
    "            return None\n",
    "        tokens = sent.split(' ')\n",
    "\n",
    "        # Remove and store [eos]\n",
    "        eos = tokens.pop() if tokens[-1] == '[eos]' else None\n",
    "\n",
    "        # Insert REVERSE marker and reverse tokens after it\n",
    "        insert_pos = random.randint(0, len(tokens))\n",
    "        tokens.insert(insert_pos, MARKER_REVERSE)\n",
    "\n",
    "        # Reverse tokens after the marker\n",
    "        tokens[insert_pos+1:] = tokens[insert_pos+1:][::-1]\n",
    "\n",
    "        if eos:\n",
    "            tokens.append(eos)\n",
    "        return ' '.join(tokens)\n",
    "\n",
    "class PCFGFullReverse(PCFG):\n",
    "    def __init__(self, grammar_file):\n",
    "        super().__init__(grammar_file)\n",
    "\n",
    "    def sample_sentence(self, max_expansions, bracketing):\n",
    "        sent = super().sample_sentence(max_expansions, bracketing)\n",
    "        if sent is None:\n",
    "            return None\n",
    "        tokens = sent.split(' ')\n",
    "\n",
    "        # Remove and store [eos]\n",
    "        eos = tokens.pop() if tokens[-1] == '[eos]' else None\n",
    "\n",
    "        # Insert REVERSE marker at random position\n",
    "        insert_pos = random.randint(0, len(tokens))\n",
    "        tokens.insert(insert_pos, MARKER_REVERSE)\n",
    "\n",
    "        # Reverse all tokens\n",
    "        tokens = tokens[::-1]\n",
    "\n",
    "        if eos:\n",
    "            tokens.append(eos)\n",
    "        return ' '.join(tokens)"
   ]
  },
  {
   "cell_type": "code",
   "execution_count": 22,
   "metadata": {},
   "outputs": [
    {
     "data": {
      "text/plain": [
       "'1 2 3 4 REVERSE 5 [eos]'"
      ]
     },
     "execution_count": 22,
     "metadata": {},
     "output_type": "execute_result"
    }
   ],
   "source": [
    "pcfg_no_reverse = PCFGNoReverse(\"data_gen/base-grammar_eos.gr\")\n",
    "pcfg_no_reverse.sample_sentence(400, False)"
   ]
  },
  {
   "cell_type": "code",
   "execution_count": 26,
   "metadata": {},
   "outputs": [
    {
     "data": {
      "text/plain": [
       "'1 REVERSE 5 4 3 2 [eos]'"
      ]
     },
     "execution_count": 26,
     "metadata": {},
     "output_type": "execute_result"
    }
   ],
   "source": [
    "pcfg_partial_reverse = PCFGPartialReverse(\"data_gen/base-grammar_eos.gr\")\n",
    "pcfg_partial_reverse.sample_sentence(400, False)"
   ]
  },
  {
   "cell_type": "code",
   "execution_count": null,
   "metadata": {},
   "outputs": [],
   "source": []
  },
  {
   "cell_type": "code",
   "execution_count": 34,
   "metadata": {},
   "outputs": [
    {
     "data": {
      "text/plain": [
       "'5 4 3 REVERSE 2 1 [eos]'"
      ]
     },
     "execution_count": 34,
     "metadata": {},
     "output_type": "execute_result"
    }
   ],
   "source": [
    "pcfg_full_reverse = PCFGFullReverse(\"data_gen/base-grammar_eos.gr\")\n",
    "pcfg_full_reverse.sample_sentence(400, False)"
   ]
  }
 ],
 "metadata": {
  "kernelspec": {
   "display_name": "Python 3",
   "language": "python",
   "name": "python3"
  },
  "language_info": {
   "codemirror_mode": {
    "name": "ipython",
    "version": 3
   },
   "file_extension": ".py",
   "mimetype": "text/x-python",
   "name": "python",
   "nbconvert_exporter": "python",
   "pygments_lexer": "ipython3",
   "version": "3.10.6"
  }
 },
 "nbformat": 4,
 "nbformat_minor": 2
}
